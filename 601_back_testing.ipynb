{
 "cells": [
  {
   "cell_type": "markdown",
   "metadata": {},
   "source": [
    "### Back Testing\n",
    "- Test your strategy with historical data\n",
    "- Validate model or program with actual data\n"
   ]
  },
  {
   "cell_type": "markdown",
   "metadata": {},
   "source": [
    "- Develop strategy\n",
    "    - macd\n",
    "    - rsi\n",
    "    - roc\n",
    "    - BB\n",
    "    - Stochastic\n",
    "    - another\n",
    "- test strategy with historical data\n",
    "    - Get buy sell signals\n",
    "    - Develop portfolio\n",
    "    - check metrics\n",
    "        - PnL\n",
    "        - returns\n",
    "        - sharpe ratio\n",
    "        - many other metrics\n",
    "    - portfolio optimization\n",
    "- Back Testing\n"
   ]
  },
  {
   "cell_type": "code",
   "execution_count": null,
   "metadata": {},
   "outputs": [],
   "source": [
    "- Develop uniform system across different stocks\n",
    "- Across different indictor\n",
    "- Automation, algorithmic trading"
   ]
  },
  {
   "cell_type": "code",
   "execution_count": null,
   "metadata": {},
   "outputs": [],
   "source": [
    "- Input\n",
    "- Action \n",
    "- Output\n",
    "\n",
    "- Input\n",
    "- Action\n",
    "- Output\n",
    "\n",
    "- Input\n",
    "- Action\n",
    "- Output\n"
   ]
  },
  {
   "cell_type": "code",
   "execution_count": null,
   "metadata": {},
   "outputs": [],
   "source": []
  },
  {
   "cell_type": "markdown",
   "metadata": {},
   "source": [
    "### Architecture of a back-testing system\n",
    "#### Strategy:\n",
    "- Input: A strategy class receives a pandas DataFrame of bars, ie. OHLCV data points at a particular frequency. \n",
    "    - Frequency \n",
    "        - daily\n",
    "        - weekly\n",
    "        - monthly\n",
    "    - MACD, RSI, ROC, BB\n",
    "        - closing prise\n",
    "    - Stochastic\n",
    "        - H, L with C\n",
    "    - Volume based trading system\n",
    "    - Indicator value\n",
    "    - Signal\n",
    "- Output: The strategy will produce a list of signals, which consists of timestamp and an element from the set {-1, 0, 1} indicating a short, hold, long signal respectively. Along with this prise\n",
    "\n",
    "#### Portfolio: \n",
    "- The majority of the backtesting work will occur in the portfolio class\n",
    "- Input: Set of signals\n",
    "- Output: Series of positions, allocated against a cash component. The job of the portfolio object is to produce an equity curve. Incorporate basic transaction cost and keep track of trades.\n",
    "\n",
    "#### Performance: \n",
    "- Input: portfolio\n",
    "- Output: statistics about its performance. Risk/return characteristics (PnL, return, sharpe, sortino and information ratio, etc)\n"
   ]
  },
  {
   "cell_type": "code",
   "execution_count": null,
   "metadata": {},
   "outputs": [],
   "source": [
    "- Back Testing\n",
    "- paper trading\n",
    "- Live trading ()"
   ]
  },
  {
   "cell_type": "code",
   "execution_count": null,
   "metadata": {},
   "outputs": [],
   "source": []
  },
  {
   "cell_type": "code",
   "execution_count": null,
   "metadata": {},
   "outputs": [],
   "source": []
  },
  {
   "cell_type": "code",
   "execution_count": null,
   "metadata": {},
   "outputs": [],
   "source": []
  },
  {
   "cell_type": "code",
   "execution_count": null,
   "metadata": {},
   "outputs": [],
   "source": []
  }
 ],
 "metadata": {
  "kernelspec": {
   "display_name": "Python 3 (ipykernel)",
   "language": "python",
   "name": "python3"
  },
  "language_info": {
   "codemirror_mode": {
    "name": "ipython",
    "version": 3
   },
   "file_extension": ".py",
   "mimetype": "text/x-python",
   "name": "python",
   "nbconvert_exporter": "python",
   "pygments_lexer": "ipython3",
   "version": "3.9.7"
  }
 },
 "nbformat": 4,
 "nbformat_minor": 2
}
