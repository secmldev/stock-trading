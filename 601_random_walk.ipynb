{
 "cells": [
  {
   "cell_type": "markdown",
   "metadata": {},
   "source": [
    "### Tossing a coin\n"
   ]
  },
  {
   "cell_type": "code",
   "execution_count": null,
   "metadata": {},
   "outputs": [],
   "source": [
    "Random event\n",
    "All possible outcome\n",
    "One of these happen\n",
    "All have equal probability of happening\n",
    "\n",
    "sum of probability = 1\n",
    "number of outcome = 2\n",
    "\n",
    "probability of one outcome = 1/2"
   ]
  },
  {
   "cell_type": "code",
   "execution_count": null,
   "metadata": {},
   "outputs": [],
   "source": [
    "Random Event\n",
    "- coin toss {H, T}\n",
    "    - P(outcome) = 1/2\n",
    "- Trading signal {1, 0, -1}\n",
    "- walking on a traffic signal {left, right, stragith, back}"
   ]
  },
  {
   "cell_type": "code",
   "execution_count": null,
   "metadata": {},
   "outputs": [],
   "source": []
  },
  {
   "cell_type": "code",
   "execution_count": null,
   "metadata": {},
   "outputs": [],
   "source": []
  },
  {
   "cell_type": "code",
   "execution_count": null,
   "metadata": {},
   "outputs": [],
   "source": [
    "### Coin Toss\n",
    "- Head: H\n",
    "- Tail: T\n",
    "- Possible outcome = {H, T}\n",
    "- P(H) = 1/2\n",
    "- P(T) = 1/2"
   ]
  },
  {
   "cell_type": "code",
   "execution_count": null,
   "metadata": {},
   "outputs": [],
   "source": []
  },
  {
   "cell_type": "code",
   "execution_count": null,
   "metadata": {},
   "outputs": [],
   "source": [
    "Possible outcome from coin toss\n",
    "- head: H: 1\n",
    "- tail: T: -1\n",
    "    \n",
    "    \n",
    "path: 100 Rs\n",
    "    \n",
    "H H T T T H H H T T T T H\n",
    "\n",
    "\n",
    "1 1 -1 -1 -1 1 1 1 -1 -1 -1 -1 1\n",
    "\n",
    "\n",
    "\n",
    "1 2 1  0  -1  0 1 2 1 0 -1 -2 -1\n",
    "\n",
    "\n",
    "T T T T T H H T H T \n",
    "\n",
    "\n",
    "\n",
    "\n",
    "\n",
    "{H, T}\n",
    "2 ^ 1\n",
    "\n",
    "{HH, HT, TH, TT}\n",
    "\n",
    "2 ^ 2\n",
    "2 ^ 13\n",
    "\n",
    "\n",
    "\n",
    "101 102 101 100 99 101 102 103 102 101 100 99 100\n",
    "\n",
    "100\n",
    "\n",
    "\n",
    "\n",
    "0 stock\n",
    "\n",
    "1 2 1 0 -1 0 1 2 1 1 0 -1 0\n",
    "\n",
    "Abinav: 100\n",
    "    \n",
    "    \n",
    "H H H H H  t t t H H H t H H\n",
    "\n",
    "1 1 1 1 1  -1 -1 -1 1 1 1 -1 1 1\n",
    "\n",
    "\n",
    "101 102 103 104 105 104 103 102 103 104 105 104 105 106\n",
    "\n",
    "0 stock\n",
    "\n",
    "1 2 3 4 5 4 3 2 3 4 5 4 5 6\n",
    "\n",
    "\n",
    "\n"
   ]
  },
  {
   "cell_type": "code",
   "execution_count": null,
   "metadata": {},
   "outputs": [],
   "source": []
  },
  {
   "cell_type": "code",
   "execution_count": 2,
   "metadata": {},
   "outputs": [
    {
     "data": {
      "text/plain": [
       "8192"
      ]
     },
     "execution_count": 2,
     "metadata": {},
     "output_type": "execute_result"
    }
   ],
   "source": [
    "2 ** 13"
   ]
  },
  {
   "cell_type": "markdown",
   "metadata": {},
   "source": [
    "### Random walk\n",
    "- https://people.duke.edu/~rnau/411rand.htm"
   ]
  },
  {
   "cell_type": "code",
   "execution_count": null,
   "metadata": {},
   "outputs": [],
   "source": []
  },
  {
   "cell_type": "code",
   "execution_count": null,
   "metadata": {},
   "outputs": [],
   "source": [
    "T P(0.5) \n",
    "H P(0.5)"
   ]
  },
  {
   "cell_type": "code",
   "execution_count": null,
   "metadata": {},
   "outputs": [],
   "source": [
    "T  H  T  T  H  T  H  T  T  H \n",
    "-1 1  -1 -1 1  -1 1 -1 -1 1\n",
    "\n",
    "-1 0  -1  -2  1 0 1  0  -1 0\n",
    "\n",
    "\n",
    "100 stock\n",
    "\n",
    "\n"
   ]
  },
  {
   "cell_type": "markdown",
   "metadata": {},
   "source": [
    "### What is random walk\n",
    "- Coin toss\n",
    "- Head with 0.5 probability\n",
    "- tail with 0.5 probability\n",
    "- unbiased coin\n",
    "- H - buy -    1\n",
    "- T - sell -   -1\n",
    "- Trading strategy\n",
    "- T H H H T H T H....\n",
    "- -1 1 1 1 1 -1 1 -1 1\n",
    "- buy 100 stock\n",
    "\n"
   ]
  },
  {
   "cell_type": "code",
   "execution_count": null,
   "metadata": {},
   "outputs": [],
   "source": [
    "- macd {0, -1, 1}\n",
    "- rsi {0, -1, 1}\n",
    "- roc {0, -1, 1}\n",
    "- bb {0, -1, 1}\n",
    "- Stochastic {0, -1, 1}\n",
    "- random walk {1, -1}"
   ]
  },
  {
   "cell_type": "code",
   "execution_count": null,
   "metadata": {},
   "outputs": [],
   "source": []
  },
  {
   "cell_type": "code",
   "execution_count": null,
   "metadata": {},
   "outputs": [],
   "source": []
  },
  {
   "cell_type": "code",
   "execution_count": null,
   "metadata": {},
   "outputs": [],
   "source": []
  }
 ],
 "metadata": {
  "kernelspec": {
   "display_name": "Python 3 (ipykernel)",
   "language": "python",
   "name": "python3"
  },
  "language_info": {
   "codemirror_mode": {
    "name": "ipython",
    "version": 3
   },
   "file_extension": ".py",
   "mimetype": "text/x-python",
   "name": "python",
   "nbconvert_exporter": "python",
   "pygments_lexer": "ipython3",
   "version": "3.9.7"
  }
 },
 "nbformat": 4,
 "nbformat_minor": 2
}
