{
 "cells": [
  {
   "cell_type": "markdown",
   "metadata": {},
   "source": [
    "### Implementing a back-tester for Random walk strategy"
   ]
  },
  {
   "cell_type": "code",
   "execution_count": 4,
   "metadata": {},
   "outputs": [],
   "source": [
    "import datetime\n",
    "import matplotlib.pyplot as plt\n",
    "import numpy as np\n",
    "import pandas as pd\n",
    "from datetime import date"
   ]
  },
  {
   "cell_type": "code",
   "execution_count": 5,
   "metadata": {},
   "outputs": [],
   "source": [
    "from mod_my_utils.read_write_data import *\n",
    "# from mod_my_utils.signal import *"
   ]
  },
  {
   "cell_type": "code",
   "execution_count": 6,
   "metadata": {},
   "outputs": [],
   "source": [
    "folder_path = 'data/'\n",
    "stock_name = 'AAPL'\n",
    "index_col = 'Date'"
   ]
  },
  {
   "cell_type": "code",
   "execution_count": 7,
   "metadata": {},
   "outputs": [
    {
     "name": "stdout",
     "output_type": "stream",
     "text": [
      "stock name:  AAPL\n"
     ]
    }
   ],
   "source": [
    "stock_data = get_price_csv(folder_name=folder_path,symbol=stock_name, index_col=index_col)"
   ]
  },
  {
   "cell_type": "code",
   "execution_count": 8,
   "metadata": {},
   "outputs": [
    {
     "data": {
      "text/html": [
       "<div>\n",
       "<style scoped>\n",
       "    .dataframe tbody tr th:only-of-type {\n",
       "        vertical-align: middle;\n",
       "    }\n",
       "\n",
       "    .dataframe tbody tr th {\n",
       "        vertical-align: top;\n",
       "    }\n",
       "\n",
       "    .dataframe thead th {\n",
       "        text-align: right;\n",
       "    }\n",
       "</style>\n",
       "<table border=\"1\" class=\"dataframe\">\n",
       "  <thead>\n",
       "    <tr style=\"text-align: right;\">\n",
       "      <th></th>\n",
       "      <th>price</th>\n",
       "    </tr>\n",
       "    <tr>\n",
       "      <th>Date</th>\n",
       "      <th></th>\n",
       "    </tr>\n",
       "  </thead>\n",
       "  <tbody>\n",
       "    <tr>\n",
       "      <th>2007-12-03</th>\n",
       "      <td>22.986003</td>\n",
       "    </tr>\n",
       "    <tr>\n",
       "      <th>2007-12-04</th>\n",
       "      <td>23.108091</td>\n",
       "    </tr>\n",
       "    <tr>\n",
       "      <th>2007-12-05</th>\n",
       "      <td>23.839335</td>\n",
       "    </tr>\n",
       "    <tr>\n",
       "      <th>2007-12-06</th>\n",
       "      <td>24.411582</td>\n",
       "    </tr>\n",
       "    <tr>\n",
       "      <th>2007-12-07</th>\n",
       "      <td>24.970258</td>\n",
       "    </tr>\n",
       "  </tbody>\n",
       "</table>\n",
       "</div>"
      ],
      "text/plain": [
       "                price\n",
       "Date                 \n",
       "2007-12-03  22.986003\n",
       "2007-12-04  23.108091\n",
       "2007-12-05  23.839335\n",
       "2007-12-06  24.411582\n",
       "2007-12-07  24.970258"
      ]
     },
     "execution_count": 8,
     "metadata": {},
     "output_type": "execute_result"
    }
   ],
   "source": [
    "data = stock_data[[\"Adj. Close\"]].copy()\n",
    "data.columns = [\"price\"]\n",
    "data.head()"
   ]
  },
  {
   "cell_type": "code",
   "execution_count": null,
   "metadata": {},
   "outputs": [],
   "source": []
  },
  {
   "cell_type": "markdown",
   "metadata": {},
   "source": [
    "### Read stock data"
   ]
  },
  {
   "cell_type": "code",
   "execution_count": 4,
   "metadata": {},
   "outputs": [],
   "source": [
    "symbols = [\"HDFC\", 'RELIANCE', 'TCS', 'HINDUNILVR', 'INFY', 'HDFC', 'BHARTIARTL', 'ITC', 'ASIANPAINT', 'NESTLEIND', 'HCLTECH', 'SBI', 'SBIN']"
   ]
  },
  {
   "cell_type": "code",
   "execution_count": 5,
   "metadata": {},
   "outputs": [
    {
     "name": "stdout",
     "output_type": "stream",
     "text": [
      "1/1/2010\n",
      "1/1/2015\n",
      "HDFC\n"
     ]
    }
   ],
   "source": [
    "symbol = symbols[0]\n",
    "data_source = \"yahoo\"\n",
    "# MM/DD/YYYY\n",
    "start_date = \"1/1/2010\"\n",
    "end_date = \"1/1/2015\"\n",
    "print(start_date)\n",
    "print(end_date)\n",
    "print(symbol)"
   ]
  },
  {
   "cell_type": "code",
   "execution_count": 6,
   "metadata": {},
   "outputs": [
    {
     "name": "stdout",
     "output_type": "stream",
     "text": [
      "stock name HDFC\n"
     ]
    }
   ],
   "source": [
    "stock_data = get_price_yahoo(symbol=symbol, data_source=data_source, start_date= start_date, end_date= end_date )"
   ]
  },
  {
   "cell_type": "code",
   "execution_count": 37,
   "metadata": {},
   "outputs": [
    {
     "data": {
      "text/html": [
       "<div>\n",
       "<style scoped>\n",
       "    .dataframe tbody tr th:only-of-type {\n",
       "        vertical-align: middle;\n",
       "    }\n",
       "\n",
       "    .dataframe tbody tr th {\n",
       "        vertical-align: top;\n",
       "    }\n",
       "\n",
       "    .dataframe thead th {\n",
       "        text-align: right;\n",
       "    }\n",
       "</style>\n",
       "<table border=\"1\" class=\"dataframe\">\n",
       "  <thead>\n",
       "    <tr style=\"text-align: right;\">\n",
       "      <th></th>\n",
       "      <th>Open</th>\n",
       "      <th>High</th>\n",
       "      <th>Low</th>\n",
       "      <th>Close</th>\n",
       "      <th>Volume</th>\n",
       "      <th>Ex-Dividend</th>\n",
       "      <th>Split Ratio</th>\n",
       "      <th>Adj. Open</th>\n",
       "      <th>Adj. High</th>\n",
       "      <th>Adj. Low</th>\n",
       "      <th>Adj. Close</th>\n",
       "      <th>Adj. Volume</th>\n",
       "    </tr>\n",
       "    <tr>\n",
       "      <th>Date</th>\n",
       "      <th></th>\n",
       "      <th></th>\n",
       "      <th></th>\n",
       "      <th></th>\n",
       "      <th></th>\n",
       "      <th></th>\n",
       "      <th></th>\n",
       "      <th></th>\n",
       "      <th></th>\n",
       "      <th></th>\n",
       "      <th></th>\n",
       "      <th></th>\n",
       "    </tr>\n",
       "  </thead>\n",
       "  <tbody>\n",
       "    <tr>\n",
       "      <th>2007-12-03</th>\n",
       "      <td>181.86</td>\n",
       "      <td>184.14</td>\n",
       "      <td>177.70</td>\n",
       "      <td>178.8600</td>\n",
       "      <td>34338200.0</td>\n",
       "      <td>0.0</td>\n",
       "      <td>1.0</td>\n",
       "      <td>23.371545</td>\n",
       "      <td>23.664556</td>\n",
       "      <td>22.836927</td>\n",
       "      <td>22.986003</td>\n",
       "      <td>240367400.0</td>\n",
       "    </tr>\n",
       "    <tr>\n",
       "      <th>2007-12-04</th>\n",
       "      <td>177.15</td>\n",
       "      <td>180.90</td>\n",
       "      <td>176.99</td>\n",
       "      <td>179.8100</td>\n",
       "      <td>27635700.0</td>\n",
       "      <td>0.0</td>\n",
       "      <td>1.0</td>\n",
       "      <td>22.766244</td>\n",
       "      <td>23.248171</td>\n",
       "      <td>22.745682</td>\n",
       "      <td>23.108091</td>\n",
       "      <td>193449900.0</td>\n",
       "    </tr>\n",
       "    <tr>\n",
       "      <th>2007-12-05</th>\n",
       "      <td>182.89</td>\n",
       "      <td>186.00</td>\n",
       "      <td>182.41</td>\n",
       "      <td>185.5000</td>\n",
       "      <td>31871500.0</td>\n",
       "      <td>0.0</td>\n",
       "      <td>1.0</td>\n",
       "      <td>23.503914</td>\n",
       "      <td>23.903592</td>\n",
       "      <td>23.442227</td>\n",
       "      <td>23.839335</td>\n",
       "      <td>223100500.0</td>\n",
       "    </tr>\n",
       "    <tr>\n",
       "      <th>2007-12-06</th>\n",
       "      <td>186.19</td>\n",
       "      <td>190.10</td>\n",
       "      <td>186.12</td>\n",
       "      <td>189.9528</td>\n",
       "      <td>32136100.0</td>\n",
       "      <td>0.0</td>\n",
       "      <td>1.0</td>\n",
       "      <td>23.928010</td>\n",
       "      <td>24.430500</td>\n",
       "      <td>23.919014</td>\n",
       "      <td>24.411582</td>\n",
       "      <td>224952700.0</td>\n",
       "    </tr>\n",
       "    <tr>\n",
       "      <th>2007-12-07</th>\n",
       "      <td>190.54</td>\n",
       "      <td>194.99</td>\n",
       "      <td>188.04</td>\n",
       "      <td>194.3000</td>\n",
       "      <td>38073800.0</td>\n",
       "      <td>0.0</td>\n",
       "      <td>1.0</td>\n",
       "      <td>24.487046</td>\n",
       "      <td>25.058933</td>\n",
       "      <td>24.165761</td>\n",
       "      <td>24.970258</td>\n",
       "      <td>266516600.0</td>\n",
       "    </tr>\n",
       "  </tbody>\n",
       "</table>\n",
       "</div>"
      ],
      "text/plain": [
       "              Open    High     Low     Close      Volume  Ex-Dividend  \\\n",
       "Date                                                                    \n",
       "2007-12-03  181.86  184.14  177.70  178.8600  34338200.0          0.0   \n",
       "2007-12-04  177.15  180.90  176.99  179.8100  27635700.0          0.0   \n",
       "2007-12-05  182.89  186.00  182.41  185.5000  31871500.0          0.0   \n",
       "2007-12-06  186.19  190.10  186.12  189.9528  32136100.0          0.0   \n",
       "2007-12-07  190.54  194.99  188.04  194.3000  38073800.0          0.0   \n",
       "\n",
       "            Split Ratio  Adj. Open  Adj. High   Adj. Low  Adj. Close  \\\n",
       "Date                                                                   \n",
       "2007-12-03          1.0  23.371545  23.664556  22.836927   22.986003   \n",
       "2007-12-04          1.0  22.766244  23.248171  22.745682   23.108091   \n",
       "2007-12-05          1.0  23.503914  23.903592  23.442227   23.839335   \n",
       "2007-12-06          1.0  23.928010  24.430500  23.919014   24.411582   \n",
       "2007-12-07          1.0  24.487046  25.058933  24.165761   24.970258   \n",
       "\n",
       "            Adj. Volume  \n",
       "Date                     \n",
       "2007-12-03  240367400.0  \n",
       "2007-12-04  193449900.0  \n",
       "2007-12-05  223100500.0  \n",
       "2007-12-06  224952700.0  \n",
       "2007-12-07  266516600.0  "
      ]
     },
     "execution_count": 37,
     "metadata": {},
     "output_type": "execute_result"
    }
   ],
   "source": [
    "stock_data.head()"
   ]
  },
  {
   "cell_type": "code",
   "execution_count": 7,
   "metadata": {},
   "outputs": [
    {
     "data": {
      "text/html": [
       "<div>\n",
       "<style scoped>\n",
       "    .dataframe tbody tr th:only-of-type {\n",
       "        vertical-align: middle;\n",
       "    }\n",
       "\n",
       "    .dataframe tbody tr th {\n",
       "        vertical-align: top;\n",
       "    }\n",
       "\n",
       "    .dataframe thead th {\n",
       "        text-align: right;\n",
       "    }\n",
       "</style>\n",
       "<table border=\"1\" class=\"dataframe\">\n",
       "  <thead>\n",
       "    <tr style=\"text-align: right;\">\n",
       "      <th></th>\n",
       "      <th>price</th>\n",
       "    </tr>\n",
       "    <tr>\n",
       "      <th>Date</th>\n",
       "      <th></th>\n",
       "    </tr>\n",
       "  </thead>\n",
       "  <tbody>\n",
       "    <tr>\n",
       "      <th>2010-01-04</th>\n",
       "      <td>442.267792</td>\n",
       "    </tr>\n",
       "    <tr>\n",
       "      <th>2010-01-05</th>\n",
       "      <td>443.772644</td>\n",
       "    </tr>\n",
       "    <tr>\n",
       "      <th>2010-01-06</th>\n",
       "      <td>445.906067</td>\n",
       "    </tr>\n",
       "    <tr>\n",
       "      <th>2010-01-07</th>\n",
       "      <td>437.604248</td>\n",
       "    </tr>\n",
       "    <tr>\n",
       "      <th>2010-01-08</th>\n",
       "      <td>429.980469</td>\n",
       "    </tr>\n",
       "  </tbody>\n",
       "</table>\n",
       "</div>"
      ],
      "text/plain": [
       "                 price\n",
       "Date                  \n",
       "2010-01-04  442.267792\n",
       "2010-01-05  443.772644\n",
       "2010-01-06  445.906067\n",
       "2010-01-07  437.604248\n",
       "2010-01-08  429.980469"
      ]
     },
     "execution_count": 7,
     "metadata": {},
     "output_type": "execute_result"
    }
   ],
   "source": [
    "data = stock_data[[\"Adj Close\"]].copy() \n",
    "data.columns = ['price']\n",
    "data.head()"
   ]
  },
  {
   "cell_type": "markdown",
   "metadata": {},
   "source": [
    "### Abstract Strategy and Portfolio  class"
   ]
  },
  {
   "cell_type": "code",
   "execution_count": 9,
   "metadata": {},
   "outputs": [],
   "source": [
    "from abc import ABCMeta, abstractmethod"
   ]
  },
  {
   "cell_type": "markdown",
   "metadata": {},
   "source": [
    "- class in python\n",
    "- object in python\n",
    "- object oriented programming with python\n",
    "- what is self"
   ]
  },
  {
   "cell_type": "code",
   "execution_count": 10,
   "metadata": {},
   "outputs": [],
   "source": [
    "class Strategy(object):\n",
    "    \"\"\"\n",
    "    Strategy is an abstract base class providing an interface for all subsequent (inherited) trading strategies.\n",
    "    The goal of a (derived) Strategy object is to output a list of signals, which has the form of a \n",
    "    time series indexed pandas DataFrame.\n",
    "    In this instance only a single symbol/instrument is supported.\n",
    "    \"\"\"\n",
    "    \n",
    "    __metaclass__ = ABCMeta\n",
    "    \n",
    "    @abstractmethod\n",
    "    def generate_signals(self):\n",
    "        \"\"\"\n",
    "        An implementation is required to return the DataFrame of symbols containing the signals to \n",
    "        go long, short or hold (1, -1, 0)\n",
    "        \"\"\"\n",
    "        raise NotImplementedError(\"Should implement generate_signals()!\")\n"
   ]
  },
  {
   "cell_type": "code",
   "execution_count": null,
   "metadata": {},
   "outputs": [],
   "source": []
  },
  {
   "cell_type": "code",
   "execution_count": 11,
   "metadata": {},
   "outputs": [
    {
     "name": "stdout",
     "output_type": "stream",
     "text": [
      "Help on class Strategy in module __main__:\n",
      "\n",
      "class Strategy(builtins.object)\n",
      " |  Strategy is an abstract base class providing an interface for all subsequent (inherited) trading strategies.\n",
      " |  The goal of a (derived) Strategy object is to output a list of signals, which has the form of a \n",
      " |  time series indexed pandas DataFrame.\n",
      " |  In this instance only a single symbol/instrument is supported.\n",
      " |  \n",
      " |  Methods defined here:\n",
      " |  \n",
      " |  generate_signals(self)\n",
      " |      An implementation is required to return the DataFrame of symbols containing the signals to \n",
      " |      go long, short or hold (1, -1, 0)\n",
      " |  \n",
      " |  ----------------------------------------------------------------------\n",
      " |  Data descriptors defined here:\n",
      " |  \n",
      " |  __dict__\n",
      " |      dictionary for instance variables (if defined)\n",
      " |  \n",
      " |  __weakref__\n",
      " |      list of weak references to the object (if defined)\n",
      " |  \n",
      " |  ----------------------------------------------------------------------\n",
      " |  Data and other attributes defined here:\n",
      " |  \n",
      " |  __metaclass__ = <class 'abc.ABCMeta'>\n",
      " |      Metaclass for defining Abstract Base Classes (ABCs).\n",
      " |      \n",
      " |      Use this metaclass to create an ABC.  An ABC can be subclassed\n",
      " |      directly, and then acts as a mix-in class.  You can also register\n",
      " |      unrelated concrete classes (even built-in classes) and unrelated\n",
      " |      ABCs as 'virtual subclasses' -- these and their descendants will\n",
      " |      be considered subclasses of the registering ABC by the built-in\n",
      " |      issubclass() function, but the registering ABC won't show up in\n",
      " |      their MRO (Method Resolution Order) nor will method\n",
      " |      implementations defined by the registering ABC be callable (not\n",
      " |      even via super()).\n",
      "\n"
     ]
    }
   ],
   "source": [
    "help(Strategy)"
   ]
  },
  {
   "cell_type": "code",
   "execution_count": 12,
   "metadata": {},
   "outputs": [
    {
     "name": "stdout",
     "output_type": "stream",
     "text": [
      "Help on class Strategy in module __main__:\n",
      "\n",
      "class Strategy(builtins.object)\n",
      " |  Strategy is an abstract base class providing an interface for all subsequent (inherited) trading strategies.\n",
      " |  The goal of a (derived) Strategy object is to output a list of signals, which has the form of a \n",
      " |  time series indexed pandas DataFrame.\n",
      " |  In this instance only a single symbol/instrument is supported.\n",
      " |  \n",
      " |  Methods defined here:\n",
      " |  \n",
      " |  generate_signals(self)\n",
      " |      An implementation is required to return the DataFrame of symbols containing the signals to \n",
      " |      go long, short or hold (1, -1, 0)\n",
      " |  \n",
      " |  ----------------------------------------------------------------------\n",
      " |  Data descriptors defined here:\n",
      " |  \n",
      " |  __dict__\n",
      " |      dictionary for instance variables (if defined)\n",
      " |  \n",
      " |  __weakref__\n",
      " |      list of weak references to the object (if defined)\n",
      " |  \n",
      " |  ----------------------------------------------------------------------\n",
      " |  Data and other attributes defined here:\n",
      " |  \n",
      " |  __metaclass__ = <class 'abc.ABCMeta'>\n",
      " |      Metaclass for defining Abstract Base Classes (ABCs).\n",
      " |      \n",
      " |      Use this metaclass to create an ABC.  An ABC can be subclassed\n",
      " |      directly, and then acts as a mix-in class.  You can also register\n",
      " |      unrelated concrete classes (even built-in classes) and unrelated\n",
      " |      ABCs as 'virtual subclasses' -- these and their descendants will\n",
      " |      be considered subclasses of the registering ABC by the built-in\n",
      " |      issubclass() function, but the registering ABC won't show up in\n",
      " |      their MRO (Method Resolution Order) nor will method\n",
      " |      implementations defined by the registering ABC be callable (not\n",
      " |      even via super()).\n",
      "\n"
     ]
    }
   ],
   "source": [
    "help(Strategy)"
   ]
  },
  {
   "cell_type": "code",
   "execution_count": null,
   "metadata": {},
   "outputs": [],
   "source": []
  },
  {
   "cell_type": "code",
   "execution_count": 13,
   "metadata": {},
   "outputs": [],
   "source": [
    "# help(object)"
   ]
  },
  {
   "cell_type": "code",
   "execution_count": 14,
   "metadata": {},
   "outputs": [],
   "source": [
    "class Portfolio(object):\n",
    "    \"\"\"\n",
    "    An abstract base class representing a portfolio of positions (including both instruments and cash), \n",
    "    determined on the basis of a set of signals provided by a Strategy.\"\"\"\n",
    "    \n",
    "    __metaclass__ = ABCMeta\n",
    "    \n",
    "    @abstractmethod\n",
    "    def generate_positions(self):\n",
    "        \"\"\"\n",
    "        Provides the logic to determine how the portfolio positions are allocated on the basis of \n",
    "        forecasting signals and available cash.\"\"\"\n",
    "        raise NotImplementedError(\"should implement generate_positions()!\")\n",
    "        \n",
    "    @abstractmethod\n",
    "    def backtest_portfolio(self):\n",
    "        \"\"\"\n",
    "        Provides the logic to generate the trading orders and subsequent equity curve (i.e. growth of total equity),\n",
    "        as a sum of holding and cash, and the bar -period returns associated with this curve based on the \n",
    "        'positions' DataFrame\n",
    "        \n",
    "        Produces a portfolio object that can be examined by other classes/functions.\"\"\"\n",
    "        raise NotImplementedError(\"Should implement backtest_portfolio()\")"
   ]
  },
  {
   "cell_type": "code",
   "execution_count": 15,
   "metadata": {},
   "outputs": [
    {
     "name": "stdout",
     "output_type": "stream",
     "text": [
      "Help on class Portfolio in module __main__:\n",
      "\n",
      "class Portfolio(builtins.object)\n",
      " |  An abstract base class representing a portfolio of positions (including both instruments and cash), \n",
      " |  determined on the basis of a set of signals provided by a Strategy.\n",
      " |  \n",
      " |  Methods defined here:\n",
      " |  \n",
      " |  backtest_portfolio(self)\n",
      " |      Provides the logic to generate the trading orders and subsequent equity curve (i.e. growth of total equity),\n",
      " |      as a sum of holding and cash, and the bar -period returns associated with this curve based on the \n",
      " |      'positions' DataFrame\n",
      " |      \n",
      " |      Produces a portfolio object that can be examined by other classes/functions.\n",
      " |  \n",
      " |  generate_positions(self)\n",
      " |      Provides the logic to determine how the portfolio positions are allocated on the basis of \n",
      " |      forecasting signals and available cash.\n",
      " |  \n",
      " |  ----------------------------------------------------------------------\n",
      " |  Data descriptors defined here:\n",
      " |  \n",
      " |  __dict__\n",
      " |      dictionary for instance variables (if defined)\n",
      " |  \n",
      " |  __weakref__\n",
      " |      list of weak references to the object (if defined)\n",
      " |  \n",
      " |  ----------------------------------------------------------------------\n",
      " |  Data and other attributes defined here:\n",
      " |  \n",
      " |  __metaclass__ = <class 'abc.ABCMeta'>\n",
      " |      Metaclass for defining Abstract Base Classes (ABCs).\n",
      " |      \n",
      " |      Use this metaclass to create an ABC.  An ABC can be subclassed\n",
      " |      directly, and then acts as a mix-in class.  You can also register\n",
      " |      unrelated concrete classes (even built-in classes) and unrelated\n",
      " |      ABCs as 'virtual subclasses' -- these and their descendants will\n",
      " |      be considered subclasses of the registering ABC by the built-in\n",
      " |      issubclass() function, but the registering ABC won't show up in\n",
      " |      their MRO (Method Resolution Order) nor will method\n",
      " |      implementations defined by the registering ABC be callable (not\n",
      " |      even via super()).\n",
      "\n"
     ]
    }
   ],
   "source": [
    "help(Portfolio)"
   ]
  },
  {
   "cell_type": "code",
   "execution_count": 16,
   "metadata": {},
   "outputs": [
    {
     "name": "stdout",
     "output_type": "stream",
     "text": [
      "Help on class Strategy in module __main__:\n",
      "\n",
      "class Strategy(builtins.object)\n",
      " |  Strategy is an abstract base class providing an interface for all subsequent (inherited) trading strategies.\n",
      " |  The goal of a (derived) Strategy object is to output a list of signals, which has the form of a \n",
      " |  time series indexed pandas DataFrame.\n",
      " |  In this instance only a single symbol/instrument is supported.\n",
      " |  \n",
      " |  Methods defined here:\n",
      " |  \n",
      " |  generate_signals(self)\n",
      " |      An implementation is required to return the DataFrame of symbols containing the signals to \n",
      " |      go long, short or hold (1, -1, 0)\n",
      " |  \n",
      " |  ----------------------------------------------------------------------\n",
      " |  Data descriptors defined here:\n",
      " |  \n",
      " |  __dict__\n",
      " |      dictionary for instance variables (if defined)\n",
      " |  \n",
      " |  __weakref__\n",
      " |      list of weak references to the object (if defined)\n",
      " |  \n",
      " |  ----------------------------------------------------------------------\n",
      " |  Data and other attributes defined here:\n",
      " |  \n",
      " |  __metaclass__ = <class 'abc.ABCMeta'>\n",
      " |      Metaclass for defining Abstract Base Classes (ABCs).\n",
      " |      \n",
      " |      Use this metaclass to create an ABC.  An ABC can be subclassed\n",
      " |      directly, and then acts as a mix-in class.  You can also register\n",
      " |      unrelated concrete classes (even built-in classes) and unrelated\n",
      " |      ABCs as 'virtual subclasses' -- these and their descendants will\n",
      " |      be considered subclasses of the registering ABC by the built-in\n",
      " |      issubclass() function, but the registering ABC won't show up in\n",
      " |      their MRO (Method Resolution Order) nor will method\n",
      " |      implementations defined by the registering ABC be callable (not\n",
      " |      even via super()).\n",
      "\n"
     ]
    }
   ],
   "source": [
    "help(Strategy)"
   ]
  },
  {
   "cell_type": "markdown",
   "metadata": {},
   "source": [
    "### Random forecasting Strategy"
   ]
  },
  {
   "cell_type": "code",
   "execution_count": 18,
   "metadata": {},
   "outputs": [],
   "source": [
    "# random_forecast.py\n",
    "\n",
    "class RandomForecastingStrategy(Strategy):\n",
    "    \"\"\"\n",
    "    Derives from strategy to produce a set of signals that are randomly generated long/shorts. \n",
    "    Clearly a nonsensical strategy, but perfectly acceptable for demonstrating the backtesting infrastructure!\n",
    "    \"\"\"\n",
    "    \n",
    "    def __init__(self, symbol, bars):\n",
    "        \"\"\"\n",
    "        requires \n",
    "        symbol: name of the stock\n",
    "        bars: stock price\n",
    "        \"\"\"\n",
    "        self.symbol = symbol\n",
    "        self.bars = bars\n",
    "        \n",
    "    def generate_signals(self):\n",
    "        \"\"\"\n",
    "        Creates a pandas DataFrame of random signals.\n",
    "        \"\"\"\n",
    "        \n",
    "        signals = pd.DataFrame(index = self.bars.index)\n",
    "        signals['price'] = self.bars['price']\n",
    "        signals['buy_sell'] = np.sign(np.random.randn(len(signals)))\n",
    "        \n",
    "        # The first five elements are set to zero in order to minimise upstream NaN errors in the forecaster.\n",
    "        signals['buy_sell'][0:5] = 0.0\n",
    "        return signals[['price', 'buy_sell']]\n",
    "\n"
   ]
  },
  {
   "cell_type": "code",
   "execution_count": null,
   "metadata": {},
   "outputs": [],
   "source": []
  },
  {
   "cell_type": "code",
   "execution_count": 19,
   "metadata": {},
   "outputs": [
    {
     "data": {
      "text/html": [
       "<div>\n",
       "<style scoped>\n",
       "    .dataframe tbody tr th:only-of-type {\n",
       "        vertical-align: middle;\n",
       "    }\n",
       "\n",
       "    .dataframe tbody tr th {\n",
       "        vertical-align: top;\n",
       "    }\n",
       "\n",
       "    .dataframe thead th {\n",
       "        text-align: right;\n",
       "    }\n",
       "</style>\n",
       "<table border=\"1\" class=\"dataframe\">\n",
       "  <thead>\n",
       "    <tr style=\"text-align: right;\">\n",
       "      <th></th>\n",
       "      <th>price</th>\n",
       "    </tr>\n",
       "    <tr>\n",
       "      <th>Date</th>\n",
       "      <th></th>\n",
       "    </tr>\n",
       "  </thead>\n",
       "  <tbody>\n",
       "    <tr>\n",
       "      <th>2007-12-03</th>\n",
       "      <td>22.986003</td>\n",
       "    </tr>\n",
       "    <tr>\n",
       "      <th>2007-12-04</th>\n",
       "      <td>23.108091</td>\n",
       "    </tr>\n",
       "    <tr>\n",
       "      <th>2007-12-05</th>\n",
       "      <td>23.839335</td>\n",
       "    </tr>\n",
       "    <tr>\n",
       "      <th>2007-12-06</th>\n",
       "      <td>24.411582</td>\n",
       "    </tr>\n",
       "    <tr>\n",
       "      <th>2007-12-07</th>\n",
       "      <td>24.970258</td>\n",
       "    </tr>\n",
       "  </tbody>\n",
       "</table>\n",
       "</div>"
      ],
      "text/plain": [
       "                price\n",
       "Date                 \n",
       "2007-12-03  22.986003\n",
       "2007-12-04  23.108091\n",
       "2007-12-05  23.839335\n",
       "2007-12-06  24.411582\n",
       "2007-12-07  24.970258"
      ]
     },
     "execution_count": 19,
     "metadata": {},
     "output_type": "execute_result"
    }
   ],
   "source": [
    "data.head()"
   ]
  },
  {
   "cell_type": "code",
   "execution_count": 20,
   "metadata": {},
   "outputs": [
    {
     "data": {
      "text/plain": [
       "2517"
      ]
     },
     "execution_count": 20,
     "metadata": {},
     "output_type": "execute_result"
    }
   ],
   "source": [
    "len(data)"
   ]
  },
  {
   "cell_type": "code",
   "execution_count": 21,
   "metadata": {},
   "outputs": [
    {
     "data": {
      "text/plain": [
       "array([ 1., -1.,  1., ..., -1., -1.,  1.])"
      ]
     },
     "execution_count": 21,
     "metadata": {},
     "output_type": "execute_result"
    }
   ],
   "source": [
    "np.sign(np.random.randn(len(data)))"
   ]
  },
  {
   "cell_type": "code",
   "execution_count": 22,
   "metadata": {},
   "outputs": [],
   "source": [
    "signals = pd.DataFrame(index = data.index)"
   ]
  },
  {
   "cell_type": "code",
   "execution_count": 23,
   "metadata": {},
   "outputs": [],
   "source": [
    "signals['price'] = data['price']\n",
    "signals['buy_sell'] = np.sign(np.random.randn(len(signals)))"
   ]
  },
  {
   "cell_type": "code",
   "execution_count": null,
   "metadata": {},
   "outputs": [],
   "source": []
  },
  {
   "cell_type": "code",
   "execution_count": 24,
   "metadata": {},
   "outputs": [
    {
     "data": {
      "text/html": [
       "<div>\n",
       "<style scoped>\n",
       "    .dataframe tbody tr th:only-of-type {\n",
       "        vertical-align: middle;\n",
       "    }\n",
       "\n",
       "    .dataframe tbody tr th {\n",
       "        vertical-align: top;\n",
       "    }\n",
       "\n",
       "    .dataframe thead th {\n",
       "        text-align: right;\n",
       "    }\n",
       "</style>\n",
       "<table border=\"1\" class=\"dataframe\">\n",
       "  <thead>\n",
       "    <tr style=\"text-align: right;\">\n",
       "      <th></th>\n",
       "      <th>price</th>\n",
       "      <th>buy_sell</th>\n",
       "    </tr>\n",
       "    <tr>\n",
       "      <th>Date</th>\n",
       "      <th></th>\n",
       "      <th></th>\n",
       "    </tr>\n",
       "  </thead>\n",
       "  <tbody>\n",
       "    <tr>\n",
       "      <th>2007-12-03</th>\n",
       "      <td>22.986003</td>\n",
       "      <td>-1.0</td>\n",
       "    </tr>\n",
       "    <tr>\n",
       "      <th>2007-12-04</th>\n",
       "      <td>23.108091</td>\n",
       "      <td>1.0</td>\n",
       "    </tr>\n",
       "    <tr>\n",
       "      <th>2007-12-05</th>\n",
       "      <td>23.839335</td>\n",
       "      <td>-1.0</td>\n",
       "    </tr>\n",
       "    <tr>\n",
       "      <th>2007-12-06</th>\n",
       "      <td>24.411582</td>\n",
       "      <td>1.0</td>\n",
       "    </tr>\n",
       "    <tr>\n",
       "      <th>2007-12-07</th>\n",
       "      <td>24.970258</td>\n",
       "      <td>-1.0</td>\n",
       "    </tr>\n",
       "  </tbody>\n",
       "</table>\n",
       "</div>"
      ],
      "text/plain": [
       "                price  buy_sell\n",
       "Date                           \n",
       "2007-12-03  22.986003      -1.0\n",
       "2007-12-04  23.108091       1.0\n",
       "2007-12-05  23.839335      -1.0\n",
       "2007-12-06  24.411582       1.0\n",
       "2007-12-07  24.970258      -1.0"
      ]
     },
     "execution_count": 24,
     "metadata": {},
     "output_type": "execute_result"
    }
   ],
   "source": [
    "signals.head()"
   ]
  },
  {
   "cell_type": "code",
   "execution_count": null,
   "metadata": {},
   "outputs": [],
   "source": []
  },
  {
   "cell_type": "code",
   "execution_count": 25,
   "metadata": {},
   "outputs": [],
   "source": [
    "rndStrategy = RandomForecastingStrategy('AAPL', data)"
   ]
  },
  {
   "cell_type": "code",
   "execution_count": 26,
   "metadata": {},
   "outputs": [],
   "source": [
    "signals = rndStrategy.generate_signals()"
   ]
  },
  {
   "cell_type": "code",
   "execution_count": 27,
   "metadata": {},
   "outputs": [
    {
     "data": {
      "text/html": [
       "<div>\n",
       "<style scoped>\n",
       "    .dataframe tbody tr th:only-of-type {\n",
       "        vertical-align: middle;\n",
       "    }\n",
       "\n",
       "    .dataframe tbody tr th {\n",
       "        vertical-align: top;\n",
       "    }\n",
       "\n",
       "    .dataframe thead th {\n",
       "        text-align: right;\n",
       "    }\n",
       "</style>\n",
       "<table border=\"1\" class=\"dataframe\">\n",
       "  <thead>\n",
       "    <tr style=\"text-align: right;\">\n",
       "      <th></th>\n",
       "      <th>price</th>\n",
       "      <th>buy_sell</th>\n",
       "    </tr>\n",
       "    <tr>\n",
       "      <th>Date</th>\n",
       "      <th></th>\n",
       "      <th></th>\n",
       "    </tr>\n",
       "  </thead>\n",
       "  <tbody>\n",
       "    <tr>\n",
       "      <th>2007-12-03</th>\n",
       "      <td>22.986003</td>\n",
       "      <td>0.0</td>\n",
       "    </tr>\n",
       "    <tr>\n",
       "      <th>2007-12-04</th>\n",
       "      <td>23.108091</td>\n",
       "      <td>0.0</td>\n",
       "    </tr>\n",
       "    <tr>\n",
       "      <th>2007-12-05</th>\n",
       "      <td>23.839335</td>\n",
       "      <td>0.0</td>\n",
       "    </tr>\n",
       "    <tr>\n",
       "      <th>2007-12-06</th>\n",
       "      <td>24.411582</td>\n",
       "      <td>0.0</td>\n",
       "    </tr>\n",
       "    <tr>\n",
       "      <th>2007-12-07</th>\n",
       "      <td>24.970258</td>\n",
       "      <td>0.0</td>\n",
       "    </tr>\n",
       "    <tr>\n",
       "      <th>2007-12-10</th>\n",
       "      <td>24.958692</td>\n",
       "      <td>1.0</td>\n",
       "    </tr>\n",
       "    <tr>\n",
       "      <th>2007-12-11</th>\n",
       "      <td>24.230069</td>\n",
       "      <td>-1.0</td>\n",
       "    </tr>\n",
       "    <tr>\n",
       "      <th>2007-12-12</th>\n",
       "      <td>24.528170</td>\n",
       "      <td>1.0</td>\n",
       "    </tr>\n",
       "    <tr>\n",
       "      <th>2007-12-13</th>\n",
       "      <td>24.652829</td>\n",
       "      <td>1.0</td>\n",
       "    </tr>\n",
       "    <tr>\n",
       "      <th>2007-12-14</th>\n",
       "      <td>24.467769</td>\n",
       "      <td>1.0</td>\n",
       "    </tr>\n",
       "    <tr>\n",
       "      <th>2007-12-17</th>\n",
       "      <td>23.697970</td>\n",
       "      <td>1.0</td>\n",
       "    </tr>\n",
       "    <tr>\n",
       "      <th>2007-12-18</th>\n",
       "      <td>23.515480</td>\n",
       "      <td>-1.0</td>\n",
       "    </tr>\n",
       "    <tr>\n",
       "      <th>2007-12-19</th>\n",
       "      <td>23.533472</td>\n",
       "      <td>-1.0</td>\n",
       "    </tr>\n",
       "    <tr>\n",
       "      <th>2007-12-20</th>\n",
       "      <td>24.059094</td>\n",
       "      <td>-1.0</td>\n",
       "    </tr>\n",
       "    <tr>\n",
       "      <th>2007-12-21</th>\n",
       "      <td>24.920138</td>\n",
       "      <td>-1.0</td>\n",
       "    </tr>\n",
       "    <tr>\n",
       "      <th>2007-12-24</th>\n",
       "      <td>25.548571</td>\n",
       "      <td>1.0</td>\n",
       "    </tr>\n",
       "    <tr>\n",
       "      <th>2007-12-26</th>\n",
       "      <td>25.567848</td>\n",
       "      <td>-1.0</td>\n",
       "    </tr>\n",
       "    <tr>\n",
       "      <th>2007-12-27</th>\n",
       "      <td>25.519013</td>\n",
       "      <td>1.0</td>\n",
       "    </tr>\n",
       "    <tr>\n",
       "      <th>2007-12-28</th>\n",
       "      <td>25.680940</td>\n",
       "      <td>-1.0</td>\n",
       "    </tr>\n",
       "    <tr>\n",
       "      <th>2007-12-31</th>\n",
       "      <td>25.456041</td>\n",
       "      <td>1.0</td>\n",
       "    </tr>\n",
       "  </tbody>\n",
       "</table>\n",
       "</div>"
      ],
      "text/plain": [
       "                price  buy_sell\n",
       "Date                           \n",
       "2007-12-03  22.986003       0.0\n",
       "2007-12-04  23.108091       0.0\n",
       "2007-12-05  23.839335       0.0\n",
       "2007-12-06  24.411582       0.0\n",
       "2007-12-07  24.970258       0.0\n",
       "2007-12-10  24.958692       1.0\n",
       "2007-12-11  24.230069      -1.0\n",
       "2007-12-12  24.528170       1.0\n",
       "2007-12-13  24.652829       1.0\n",
       "2007-12-14  24.467769       1.0\n",
       "2007-12-17  23.697970       1.0\n",
       "2007-12-18  23.515480      -1.0\n",
       "2007-12-19  23.533472      -1.0\n",
       "2007-12-20  24.059094      -1.0\n",
       "2007-12-21  24.920138      -1.0\n",
       "2007-12-24  25.548571       1.0\n",
       "2007-12-26  25.567848      -1.0\n",
       "2007-12-27  25.519013       1.0\n",
       "2007-12-28  25.680940      -1.0\n",
       "2007-12-31  25.456041       1.0"
      ]
     },
     "execution_count": 27,
     "metadata": {},
     "output_type": "execute_result"
    }
   ],
   "source": [
    "signals.head(20)"
   ]
  },
  {
   "cell_type": "markdown",
   "metadata": {},
   "source": [
    "### Portfolio for random forecast"
   ]
  },
  {
   "cell_type": "code",
   "execution_count": 28,
   "metadata": {},
   "outputs": [],
   "source": [
    "# random_forecast.py\n",
    "\n",
    "class MarketOnPricePortfolio(Portfolio):\n",
    "    \"\"\"\n",
    "    Inherits Portfolio to create a system that purchases 100 units of a particular symbol upon a long/short signals, \n",
    "    assuming the market open price of a bar.\n",
    "    \n",
    "    In addition, there are zero transaction costs and cash can be immediately borrowed for shorting (no margin posting or interest\n",
    "    requirements).\n",
    "    \n",
    "    Requires:\n",
    "    symbol - A stock symbol which forms the basis of the portfolio.\n",
    "    signals - A pandas DataFrame of signals (1, 0, -1) or each symbol.\n",
    "    Initial_capital - the amount in cash at the start of the portfolio.\"\"\"\n",
    "    \n",
    "    def __init__(self, symbol, signals, initial_capital=100000.0):\n",
    "        self.symbol = symbol\n",
    "        self.signals = signals\n",
    "        self.initial_capital = float(initial_capital)\n",
    "        self.positions = self.generate_positions()\n",
    "        \n",
    "    def generate_positions(self):\n",
    "        \"\"\"\n",
    "        Creates a 'positions' DataFrame that simply longs or shorts 100 of the particular symbol based on the \n",
    "        forecast signals of {1, 0, -1} from the signals DataFrame.\"\"\"\n",
    "        positions = pd.DataFrame(index= self.signals.index).fillna(0.0)\n",
    "        # Buy and sell a 100 shares based on signals and accumulate position\n",
    "        positions[self.symbol] = 100 * self.signals['buy_sell'].cumsum() \n",
    "        return positions\n",
    "    \n",
    "    def backtest_portfolio(self):\n",
    "        \"\"\"\n",
    "        Constructs a portfolio from the positions DataFrame by assuming the ability to trade at \n",
    "        the precise market price of each bar.\n",
    "        \n",
    "        Calculates the total of cash and the holding (market price of each position per bar), in order to \n",
    "        generate an equity curve (total) and a set of bar based returns ('return).\n",
    "        \n",
    "        Returns the portfolio object to be used elsewhere.\n",
    "        \"\"\"\n",
    "        \n",
    "        # Construct the portfolio dataframe to use the same index\n",
    "        # as 'positons' and with a set of 'trading orders' in the\n",
    "        # 'pos_diff' object, assumping market open prices.\n",
    "        \n",
    "        portfolio = pd.DataFrame(index=self.signals.index)\n",
    "        # Initialize the portfolio with value owned \n",
    "        portfolio[self.symbol] = self.positions[self.symbol].multiply(self.signals['price'], axis=0)\n",
    "        pos_diff = 100 * self.signals[['buy_sell']]\n",
    "        # add holding to portfolio\n",
    "        portfolio['holdings'] = (self.positions.multiply(self.signals['price'], axis=0)).sum(axis=1)\n",
    "        # Add `cash` to portfolio\n",
    "        portfolio['cash'] = self.initial_capital - (pos_diff.multiply(self.signals['price'], axis=0)).sum(axis=1).cumsum()   \n",
    "        portfolio['total'] = portfolio['cash'] + portfolio['holdings']\n",
    "        # return the portfolio\n",
    "        return portfolio[['holdings', 'cash', 'total']]\n",
    "        "
   ]
  },
  {
   "cell_type": "code",
   "execution_count": 29,
   "metadata": {},
   "outputs": [
    {
     "name": "stdout",
     "output_type": "stream",
     "text": [
      "Help on class RandomForecastingStrategy in module __main__:\n",
      "\n",
      "class RandomForecastingStrategy(Strategy)\n",
      " |  RandomForecastingStrategy(symbol, bars)\n",
      " |  \n",
      " |  Derives from strategy to produce a set of signals that are randomly generated long/shorts. \n",
      " |  Clearly a nonsensical strategy, but perfectly acceptable for demonstrating the backtesting infrastructure!\n",
      " |  \n",
      " |  Method resolution order:\n",
      " |      RandomForecastingStrategy\n",
      " |      Strategy\n",
      " |      builtins.object\n",
      " |  \n",
      " |  Methods defined here:\n",
      " |  \n",
      " |  __init__(self, symbol, bars)\n",
      " |      requires \n",
      " |      symbol: name of the stock\n",
      " |      bars: stock price\n",
      " |  \n",
      " |  generate_signals(self)\n",
      " |      Creates a pandas DataFrame of random signals.\n",
      " |  \n",
      " |  ----------------------------------------------------------------------\n",
      " |  Data descriptors inherited from Strategy:\n",
      " |  \n",
      " |  __dict__\n",
      " |      dictionary for instance variables (if defined)\n",
      " |  \n",
      " |  __weakref__\n",
      " |      list of weak references to the object (if defined)\n",
      " |  \n",
      " |  ----------------------------------------------------------------------\n",
      " |  Data and other attributes inherited from Strategy:\n",
      " |  \n",
      " |  __metaclass__ = <class 'abc.ABCMeta'>\n",
      " |      Metaclass for defining Abstract Base Classes (ABCs).\n",
      " |      \n",
      " |      Use this metaclass to create an ABC.  An ABC can be subclassed\n",
      " |      directly, and then acts as a mix-in class.  You can also register\n",
      " |      unrelated concrete classes (even built-in classes) and unrelated\n",
      " |      ABCs as 'virtual subclasses' -- these and their descendants will\n",
      " |      be considered subclasses of the registering ABC by the built-in\n",
      " |      issubclass() function, but the registering ABC won't show up in\n",
      " |      their MRO (Method Resolution Order) nor will method\n",
      " |      implementations defined by the registering ABC be callable (not\n",
      " |      even via super()).\n",
      "\n"
     ]
    }
   ],
   "source": [
    "help(RandomForecastingStrategy)"
   ]
  },
  {
   "cell_type": "code",
   "execution_count": 30,
   "metadata": {},
   "outputs": [
    {
     "name": "stdout",
     "output_type": "stream",
     "text": [
      "Help on class MarketOnPricePortfolio in module __main__:\n",
      "\n",
      "class MarketOnPricePortfolio(Portfolio)\n",
      " |  MarketOnPricePortfolio(symbol, signals, initial_capital=100000.0)\n",
      " |  \n",
      " |  Inherits Portfolio to create a system that purchases 100 units of a particular symbol upon a long/short signals, \n",
      " |  assuming the market open price of a bar.\n",
      " |  \n",
      " |  In addition, there are zero transaction costs and cash can be immediately borrowed for shorting (no margin posting or interest\n",
      " |  requirements).\n",
      " |  \n",
      " |  Requires:\n",
      " |  symbol - A stock symbol which forms the basis of the portfolio.\n",
      " |  signals - A pandas DataFrame of signals (1, 0, -1) or each symbol.\n",
      " |  Initial_capital - the amount in cash at the start of the portfolio.\n",
      " |  \n",
      " |  Method resolution order:\n",
      " |      MarketOnPricePortfolio\n",
      " |      Portfolio\n",
      " |      builtins.object\n",
      " |  \n",
      " |  Methods defined here:\n",
      " |  \n",
      " |  __init__(self, symbol, signals, initial_capital=100000.0)\n",
      " |      Initialize self.  See help(type(self)) for accurate signature.\n",
      " |  \n",
      " |  backtest_portfolio(self)\n",
      " |      Constructs a portfolio from the positions DataFrame by assuming the ability to trade at \n",
      " |      the precise market price of each bar.\n",
      " |      \n",
      " |      Calculates the total of cash and the holding (market price of each position per bar), in order to \n",
      " |      generate an equity curve (total) and a set of bar based returns ('return).\n",
      " |      \n",
      " |      Returns the portfolio object to be used elsewhere.\n",
      " |  \n",
      " |  generate_positions(self)\n",
      " |      Creates a 'positions' DataFrame that simply longs or shorts 100 of the particular symbol based on the \n",
      " |      forecast signals of {1, 0, -1} from the signals DataFrame.\n",
      " |  \n",
      " |  ----------------------------------------------------------------------\n",
      " |  Data descriptors inherited from Portfolio:\n",
      " |  \n",
      " |  __dict__\n",
      " |      dictionary for instance variables (if defined)\n",
      " |  \n",
      " |  __weakref__\n",
      " |      list of weak references to the object (if defined)\n",
      " |  \n",
      " |  ----------------------------------------------------------------------\n",
      " |  Data and other attributes inherited from Portfolio:\n",
      " |  \n",
      " |  __metaclass__ = <class 'abc.ABCMeta'>\n",
      " |      Metaclass for defining Abstract Base Classes (ABCs).\n",
      " |      \n",
      " |      Use this metaclass to create an ABC.  An ABC can be subclassed\n",
      " |      directly, and then acts as a mix-in class.  You can also register\n",
      " |      unrelated concrete classes (even built-in classes) and unrelated\n",
      " |      ABCs as 'virtual subclasses' -- these and their descendants will\n",
      " |      be considered subclasses of the registering ABC by the built-in\n",
      " |      issubclass() function, but the registering ABC won't show up in\n",
      " |      their MRO (Method Resolution Order) nor will method\n",
      " |      implementations defined by the registering ABC be callable (not\n",
      " |      even via super()).\n",
      "\n"
     ]
    }
   ],
   "source": [
    "help(MarketOnPricePortfolio)"
   ]
  },
  {
   "cell_type": "code",
   "execution_count": 31,
   "metadata": {},
   "outputs": [],
   "source": [
    "symbol = 'AAPL'"
   ]
  },
  {
   "cell_type": "code",
   "execution_count": 32,
   "metadata": {},
   "outputs": [
    {
     "name": "stdout",
     "output_type": "stream",
     "text": [
      "AAPL\n"
     ]
    },
    {
     "data": {
      "image/png": "[encoded data removed]",
      "text/plain": [
       "<Figure size 432x288 with 1 Axes>"
      ]
     },
     "metadata": {
      "needs_background": "light"
     },
     "output_type": "display_data"
    },
    {
     "data": {
      "image/png": "[encoded data removed]",
      "text/plain": [
       "<Figure size 432x288 with 1 Axes>"
      ]
     },
     "metadata": {
      "needs_background": "light"
     },
     "output_type": "display_data"
    }
   ],
   "source": [
    "if __name__ == \"__main__\":\n",
    "    print(symbol)\n",
    "    random_strategy = RandomForecastingStrategy(symbol, data)\n",
    "    signals = random_strategy.generate_signals()\n",
    "    signals.buy_sell.plot()\n",
    "    portfolio = MarketOnPricePortfolio(symbol, signals)\n",
    "    backtest_portfolio = portfolio.backtest_portfolio()\n",
    "    portfolio.positions.plot()\n",
    "#     backtest_portfolio.holdings.plot()\n",
    "    "
   ]
  },
  {
   "cell_type": "code",
   "execution_count": 33,
   "metadata": {},
   "outputs": [
    {
     "data": {
      "text/plain": [
       "<AxesSubplot:xlabel='Date'>"
      ]
     },
     "execution_count": 33,
     "metadata": {},
     "output_type": "execute_result"
    },
    {
     "data": {
      "image/png": "[encoded data removed]",
      "text/plain": [
       "<Figure size 432x288 with 1 Axes>"
      ]
     },
     "metadata": {
      "needs_background": "light"
     },
     "output_type": "display_data"
    }
   ],
   "source": [
    "backtest_portfolio.holdings.plot()"
   ]
  },
  {
   "cell_type": "code",
   "execution_count": 34,
   "metadata": {},
   "outputs": [
    {
     "data": {
      "text/plain": [
       "<AxesSubplot:xlabel='Date'>"
      ]
     },
     "execution_count": 34,
     "metadata": {},
     "output_type": "execute_result"
    },
    {
     "data": {
      "image/png": "[encoded data removed]",
      "text/plain": [
       "<Figure size 432x288 with 1 Axes>"
      ]
     },
     "metadata": {
      "needs_background": "light"
     },
     "output_type": "display_data"
    }
   ],
   "source": [
    "backtest_portfolio.cash.plot()"
   ]
  },
  {
   "cell_type": "code",
   "execution_count": 35,
   "metadata": {},
   "outputs": [
    {
     "data": {
      "text/plain": [
       "<AxesSubplot:xlabel='Date'>"
      ]
     },
     "execution_count": 35,
     "metadata": {},
     "output_type": "execute_result"
    },
    {
     "data": {
      "image/png": "[encoded data removed]",
      "text/plain": [
       "<Figure size 432x288 with 1 Axes>"
      ]
     },
     "metadata": {
      "needs_background": "light"
     },
     "output_type": "display_data"
    }
   ],
   "source": [
    "backtest_portfolio.total.plot()"
   ]
  },
  {
   "cell_type": "code",
   "execution_count": 36,
   "metadata": {},
   "outputs": [],
   "source": [
    "backtest_portfolio['returns'] = backtest_portfolio.total.pct_change()"
   ]
  },
  {
   "cell_type": "code",
   "execution_count": 37,
   "metadata": {},
   "outputs": [
    {
     "data": {
      "text/html": [
       "<div>\n",
       "<style scoped>\n",
       "    .dataframe tbody tr th:only-of-type {\n",
       "        vertical-align: middle;\n",
       "    }\n",
       "\n",
       "    .dataframe tbody tr th {\n",
       "        vertical-align: top;\n",
       "    }\n",
       "\n",
       "    .dataframe thead th {\n",
       "        text-align: right;\n",
       "    }\n",
       "</style>\n",
       "<table border=\"1\" class=\"dataframe\">\n",
       "  <thead>\n",
       "    <tr style=\"text-align: right;\">\n",
       "      <th></th>\n",
       "      <th>holdings</th>\n",
       "      <th>cash</th>\n",
       "      <th>total</th>\n",
       "      <th>returns</th>\n",
       "    </tr>\n",
       "    <tr>\n",
       "      <th>Date</th>\n",
       "      <th></th>\n",
       "      <th></th>\n",
       "      <th></th>\n",
       "      <th></th>\n",
       "    </tr>\n",
       "  </thead>\n",
       "  <tbody>\n",
       "    <tr>\n",
       "      <th>2007-12-03</th>\n",
       "      <td>0.0</td>\n",
       "      <td>100000.0</td>\n",
       "      <td>100000.0</td>\n",
       "      <td>NaN</td>\n",
       "    </tr>\n",
       "    <tr>\n",
       "      <th>2007-12-04</th>\n",
       "      <td>0.0</td>\n",
       "      <td>100000.0</td>\n",
       "      <td>100000.0</td>\n",
       "      <td>0.0</td>\n",
       "    </tr>\n",
       "    <tr>\n",
       "      <th>2007-12-05</th>\n",
       "      <td>0.0</td>\n",
       "      <td>100000.0</td>\n",
       "      <td>100000.0</td>\n",
       "      <td>0.0</td>\n",
       "    </tr>\n",
       "    <tr>\n",
       "      <th>2007-12-06</th>\n",
       "      <td>0.0</td>\n",
       "      <td>100000.0</td>\n",
       "      <td>100000.0</td>\n",
       "      <td>0.0</td>\n",
       "    </tr>\n",
       "    <tr>\n",
       "      <th>2007-12-07</th>\n",
       "      <td>0.0</td>\n",
       "      <td>100000.0</td>\n",
       "      <td>100000.0</td>\n",
       "      <td>0.0</td>\n",
       "    </tr>\n",
       "  </tbody>\n",
       "</table>\n",
       "</div>"
      ],
      "text/plain": [
       "            holdings      cash     total  returns\n",
       "Date                                             \n",
       "2007-12-03       0.0  100000.0  100000.0      NaN\n",
       "2007-12-04       0.0  100000.0  100000.0      0.0\n",
       "2007-12-05       0.0  100000.0  100000.0      0.0\n",
       "2007-12-06       0.0  100000.0  100000.0      0.0\n",
       "2007-12-07       0.0  100000.0  100000.0      0.0"
      ]
     },
     "execution_count": 37,
     "metadata": {},
     "output_type": "execute_result"
    }
   ],
   "source": [
    "backtest_portfolio.head()"
   ]
  },
  {
   "cell_type": "code",
   "execution_count": 40,
   "metadata": {},
   "outputs": [
    {
     "data": {
      "text/html": [
       "<div>\n",
       "<style scoped>\n",
       "    .dataframe tbody tr th:only-of-type {\n",
       "        vertical-align: middle;\n",
       "    }\n",
       "\n",
       "    .dataframe tbody tr th {\n",
       "        vertical-align: top;\n",
       "    }\n",
       "\n",
       "    .dataframe thead th {\n",
       "        text-align: right;\n",
       "    }\n",
       "</style>\n",
       "<table border=\"1\" class=\"dataframe\">\n",
       "  <thead>\n",
       "    <tr style=\"text-align: right;\">\n",
       "      <th></th>\n",
       "      <th>price</th>\n",
       "      <th>buy_sell</th>\n",
       "    </tr>\n",
       "    <tr>\n",
       "      <th>Date</th>\n",
       "      <th></th>\n",
       "      <th></th>\n",
       "    </tr>\n",
       "  </thead>\n",
       "  <tbody>\n",
       "    <tr>\n",
       "      <th>2007-12-03</th>\n",
       "      <td>22.986003</td>\n",
       "      <td>0.0</td>\n",
       "    </tr>\n",
       "    <tr>\n",
       "      <th>2007-12-04</th>\n",
       "      <td>23.108091</td>\n",
       "      <td>0.0</td>\n",
       "    </tr>\n",
       "    <tr>\n",
       "      <th>2007-12-05</th>\n",
       "      <td>23.839335</td>\n",
       "      <td>0.0</td>\n",
       "    </tr>\n",
       "    <tr>\n",
       "      <th>2007-12-06</th>\n",
       "      <td>24.411582</td>\n",
       "      <td>0.0</td>\n",
       "    </tr>\n",
       "    <tr>\n",
       "      <th>2007-12-07</th>\n",
       "      <td>24.970258</td>\n",
       "      <td>0.0</td>\n",
       "    </tr>\n",
       "  </tbody>\n",
       "</table>\n",
       "</div>"
      ],
      "text/plain": [
       "                price  buy_sell\n",
       "Date                           \n",
       "2007-12-03  22.986003       0.0\n",
       "2007-12-04  23.108091       0.0\n",
       "2007-12-05  23.839335       0.0\n",
       "2007-12-06  24.411582       0.0\n",
       "2007-12-07  24.970258       0.0"
      ]
     },
     "execution_count": 40,
     "metadata": {},
     "output_type": "execute_result"
    }
   ],
   "source": [
    "signals.head()"
   ]
  },
  {
   "cell_type": "code",
   "execution_count": 41,
   "metadata": {},
   "outputs": [
    {
     "data": {
      "text/html": [
       "<div>\n",
       "<style scoped>\n",
       "    .dataframe tbody tr th:only-of-type {\n",
       "        vertical-align: middle;\n",
       "    }\n",
       "\n",
       "    .dataframe tbody tr th {\n",
       "        vertical-align: top;\n",
       "    }\n",
       "\n",
       "    .dataframe thead th {\n",
       "        text-align: right;\n",
       "    }\n",
       "</style>\n",
       "<table border=\"1\" class=\"dataframe\">\n",
       "  <thead>\n",
       "    <tr style=\"text-align: right;\">\n",
       "      <th></th>\n",
       "      <th>holdings</th>\n",
       "      <th>cash</th>\n",
       "      <th>total</th>\n",
       "      <th>returns</th>\n",
       "    </tr>\n",
       "    <tr>\n",
       "      <th>Date</th>\n",
       "      <th></th>\n",
       "      <th></th>\n",
       "      <th></th>\n",
       "      <th></th>\n",
       "    </tr>\n",
       "  </thead>\n",
       "  <tbody>\n",
       "    <tr>\n",
       "      <th>2007-12-03</th>\n",
       "      <td>0.0</td>\n",
       "      <td>100000.0</td>\n",
       "      <td>100000.0</td>\n",
       "      <td>NaN</td>\n",
       "    </tr>\n",
       "    <tr>\n",
       "      <th>2007-12-04</th>\n",
       "      <td>0.0</td>\n",
       "      <td>100000.0</td>\n",
       "      <td>100000.0</td>\n",
       "      <td>0.0</td>\n",
       "    </tr>\n",
       "    <tr>\n",
       "      <th>2007-12-05</th>\n",
       "      <td>0.0</td>\n",
       "      <td>100000.0</td>\n",
       "      <td>100000.0</td>\n",
       "      <td>0.0</td>\n",
       "    </tr>\n",
       "    <tr>\n",
       "      <th>2007-12-06</th>\n",
       "      <td>0.0</td>\n",
       "      <td>100000.0</td>\n",
       "      <td>100000.0</td>\n",
       "      <td>0.0</td>\n",
       "    </tr>\n",
       "    <tr>\n",
       "      <th>2007-12-07</th>\n",
       "      <td>0.0</td>\n",
       "      <td>100000.0</td>\n",
       "      <td>100000.0</td>\n",
       "      <td>0.0</td>\n",
       "    </tr>\n",
       "  </tbody>\n",
       "</table>\n",
       "</div>"
      ],
      "text/plain": [
       "            holdings      cash     total  returns\n",
       "Date                                             \n",
       "2007-12-03       0.0  100000.0  100000.0      NaN\n",
       "2007-12-04       0.0  100000.0  100000.0      0.0\n",
       "2007-12-05       0.0  100000.0  100000.0      0.0\n",
       "2007-12-06       0.0  100000.0  100000.0      0.0\n",
       "2007-12-07       0.0  100000.0  100000.0      0.0"
      ]
     },
     "execution_count": 41,
     "metadata": {},
     "output_type": "execute_result"
    }
   ],
   "source": [
    "backtest_portfolio.head()"
   ]
  },
  {
   "cell_type": "code",
   "execution_count": 42,
   "metadata": {},
   "outputs": [
    {
     "data": {
      "text/plain": [
       "<AxesSubplot:xlabel='Date'>"
      ]
     },
     "execution_count": 42,
     "metadata": {},
     "output_type": "execute_result"
    },
    {
     "data": {
      "image/png": "[encoded data removed]",
      "text/plain": [
       "<Figure size 432x288 with 1 Axes>"
      ]
     },
     "metadata": {
      "needs_background": "light"
     },
     "output_type": "display_data"
    }
   ],
   "source": [
    "signals.buy_sell.plot()"
   ]
  },
  {
   "cell_type": "code",
   "execution_count": null,
   "metadata": {},
   "outputs": [],
   "source": []
  }
 ],
 "metadata": {
  "kernelspec": {
   "display_name": "Python 3 (ipykernel)",
   "language": "python",
   "name": "python3"
  },
  "language_info": {
   "codemirror_mode": {
    "name": "ipython",
    "version": 3
   },
   "file_extension": ".py",
   "mimetype": "text/x-python",
   "name": "python",
   "nbconvert_exporter": "python",
   "pygments_lexer": "ipython3",
   "version": "3.9.7"
  }
 },
 "nbformat": 4,
 "nbformat_minor": 2
}
