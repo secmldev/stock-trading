{
 "cells": [
  {
   "cell_type": "code",
   "execution_count": 1,
   "metadata": {},
   "outputs": [],
   "source": [
    "import datetime\n",
    "import matplotlib.pyplot as plt\n",
    "import numpy as np\n",
    "import pandas as pd\n",
    "from datetime import date\n",
    "from mod_macd_utils.macd import get_macd_signal_line, get_signal_macd_crossover"
   ]
  },
  {
   "cell_type": "code",
   "execution_count": 2,
   "metadata": {},
   "outputs": [],
   "source": [
    "from mod_my_utils.read_write_data import *"
   ]
  },
  {
   "cell_type": "markdown",
   "metadata": {},
   "source": [
    "### Read Data"
   ]
  },
  {
   "cell_type": "code",
   "execution_count": 7,
   "metadata": {},
   "outputs": [
    {
     "name": "stdout",
     "output_type": "stream",
     "text": [
      "2020-01-01\n",
      "2021-12-19\n",
      "stock name:  HDFC.NS\n"
     ]
    },
    {
     "data": {
      "text/html": [
       "<div>\n",
       "<style scoped>\n",
       "    .dataframe tbody tr th:only-of-type {\n",
       "        vertical-align: middle;\n",
       "    }\n",
       "\n",
       "    .dataframe tbody tr th {\n",
       "        vertical-align: top;\n",
       "    }\n",
       "\n",
       "    .dataframe thead th {\n",
       "        text-align: right;\n",
       "    }\n",
       "</style>\n",
       "<table border=\"1\" class=\"dataframe\">\n",
       "  <thead>\n",
       "    <tr style=\"text-align: right;\">\n",
       "      <th></th>\n",
       "      <th>High</th>\n",
       "      <th>Low</th>\n",
       "      <th>Open</th>\n",
       "      <th>Close</th>\n",
       "      <th>Volume</th>\n",
       "      <th>Adj Close</th>\n",
       "    </tr>\n",
       "    <tr>\n",
       "      <th>Date</th>\n",
       "      <th></th>\n",
       "      <th></th>\n",
       "      <th></th>\n",
       "      <th></th>\n",
       "      <th></th>\n",
       "      <th></th>\n",
       "    </tr>\n",
       "  </thead>\n",
       "  <tbody>\n",
       "    <tr>\n",
       "      <th>2020-01-01</th>\n",
       "      <td>2438.500000</td>\n",
       "      <td>2409.000000</td>\n",
       "      <td>2418.00</td>\n",
       "      <td>2433.949951</td>\n",
       "      <td>945874.0</td>\n",
       "      <td>2359.273682</td>\n",
       "    </tr>\n",
       "    <tr>\n",
       "      <th>2020-01-02</th>\n",
       "      <td>2472.750000</td>\n",
       "      <td>2422.000000</td>\n",
       "      <td>2430.00</td>\n",
       "      <td>2466.399902</td>\n",
       "      <td>1701396.0</td>\n",
       "      <td>2390.728027</td>\n",
       "    </tr>\n",
       "    <tr>\n",
       "      <th>2020-01-03</th>\n",
       "      <td>2466.399902</td>\n",
       "      <td>2441.800049</td>\n",
       "      <td>2455.00</td>\n",
       "      <td>2454.449951</td>\n",
       "      <td>1963923.0</td>\n",
       "      <td>2379.144531</td>\n",
       "    </tr>\n",
       "    <tr>\n",
       "      <th>2020-01-06</th>\n",
       "      <td>2445.000000</td>\n",
       "      <td>2371.399902</td>\n",
       "      <td>2428.00</td>\n",
       "      <td>2384.100098</td>\n",
       "      <td>2656731.0</td>\n",
       "      <td>2310.953125</td>\n",
       "    </tr>\n",
       "    <tr>\n",
       "      <th>2020-01-07</th>\n",
       "      <td>2428.800049</td>\n",
       "      <td>2380.199951</td>\n",
       "      <td>2401.25</td>\n",
       "      <td>2415.050049</td>\n",
       "      <td>3771992.0</td>\n",
       "      <td>2340.953369</td>\n",
       "    </tr>\n",
       "  </tbody>\n",
       "</table>\n",
       "</div>"
      ],
      "text/plain": [
       "                   High          Low     Open        Close     Volume  \\\n",
       "Date                                                                    \n",
       "2020-01-01  2438.500000  2409.000000  2418.00  2433.949951   945874.0   \n",
       "2020-01-02  2472.750000  2422.000000  2430.00  2466.399902  1701396.0   \n",
       "2020-01-03  2466.399902  2441.800049  2455.00  2454.449951  1963923.0   \n",
       "2020-01-06  2445.000000  2371.399902  2428.00  2384.100098  2656731.0   \n",
       "2020-01-07  2428.800049  2380.199951  2401.25  2415.050049  3771992.0   \n",
       "\n",
       "              Adj Close  \n",
       "Date                     \n",
       "2020-01-01  2359.273682  \n",
       "2020-01-02  2390.728027  \n",
       "2020-01-03  2379.144531  \n",
       "2020-01-06  2310.953125  \n",
       "2020-01-07  2340.953369  "
      ]
     },
     "execution_count": 7,
     "metadata": {},
     "output_type": "execute_result"
    }
   ],
   "source": [
    "symbol = 'HDFC.NS'\n",
    "data_source = 'yahoo'\n",
    "start_date = date(2020, 1, 1)\n",
    "end_date = date.today()\n",
    "print(start_date)\n",
    "print(end_date)\n",
    "stock_data = get_price_yahoo(symbol=symbol, data_source=data_source, start_date=start_date, end_date=end_date)\n",
    "stock_data.head()"
   ]
  },
  {
   "cell_type": "code",
   "execution_count": null,
   "metadata": {},
   "outputs": [],
   "source": []
  },
  {
   "cell_type": "code",
   "execution_count": 3,
   "metadata": {},
   "outputs": [
    {
     "name": "stdout",
     "output_type": "stream",
     "text": [
      "stock name:  aapl\n"
     ]
    }
   ],
   "source": [
    "stock_name = \"aapl\"\n",
    "folder_name = \"data/\"\n",
    "stock_data = get_price_csv(folder_name=folder_name, symbol=stock_name, index_col=\"Date\")"
   ]
  },
  {
   "cell_type": "code",
   "execution_count": 4,
   "metadata": {},
   "outputs": [
    {
     "data": {
      "text/html": [
       "<div>\n",
       "<style scoped>\n",
       "    .dataframe tbody tr th:only-of-type {\n",
       "        vertical-align: middle;\n",
       "    }\n",
       "\n",
       "    .dataframe tbody tr th {\n",
       "        vertical-align: top;\n",
       "    }\n",
       "\n",
       "    .dataframe thead th {\n",
       "        text-align: right;\n",
       "    }\n",
       "</style>\n",
       "<table border=\"1\" class=\"dataframe\">\n",
       "  <thead>\n",
       "    <tr style=\"text-align: right;\">\n",
       "      <th></th>\n",
       "      <th>price</th>\n",
       "    </tr>\n",
       "    <tr>\n",
       "      <th>Date</th>\n",
       "      <th></th>\n",
       "    </tr>\n",
       "  </thead>\n",
       "  <tbody>\n",
       "    <tr>\n",
       "      <th>2007-12-03</th>\n",
       "      <td>22.986003</td>\n",
       "    </tr>\n",
       "    <tr>\n",
       "      <th>2007-12-04</th>\n",
       "      <td>23.108091</td>\n",
       "    </tr>\n",
       "    <tr>\n",
       "      <th>2007-12-05</th>\n",
       "      <td>23.839335</td>\n",
       "    </tr>\n",
       "    <tr>\n",
       "      <th>2007-12-06</th>\n",
       "      <td>24.411582</td>\n",
       "    </tr>\n",
       "    <tr>\n",
       "      <th>2007-12-07</th>\n",
       "      <td>24.970258</td>\n",
       "    </tr>\n",
       "  </tbody>\n",
       "</table>\n",
       "</div>"
      ],
      "text/plain": [
       "                price\n",
       "Date                 \n",
       "2007-12-03  22.986003\n",
       "2007-12-04  23.108091\n",
       "2007-12-05  23.839335\n",
       "2007-12-06  24.411582\n",
       "2007-12-07  24.970258"
      ]
     },
     "execution_count": 4,
     "metadata": {},
     "output_type": "execute_result"
    }
   ],
   "source": [
    "data = stock_data[['Adj. Close']].copy()\n",
    "data.columns = ['price']\n",
    "data.head()"
   ]
  },
  {
   "cell_type": "markdown",
   "metadata": {},
   "source": [
    "### MACD"
   ]
  },
  {
   "cell_type": "code",
   "execution_count": 5,
   "metadata": {},
   "outputs": [],
   "source": [
    "short_window = 80\n",
    "long_window = 100\n",
    "signal_window = 20"
   ]
  },
  {
   "cell_type": "code",
   "execution_count": 6,
   "metadata": {},
   "outputs": [],
   "source": [
    "macd_signal_line = get_macd_signal_line(data, short_window=short_window, long_window=long_window, signal_window=signal_window)"
   ]
  },
  {
   "cell_type": "code",
   "execution_count": 7,
   "metadata": {},
   "outputs": [],
   "source": [
    "signals = get_signal_macd_crossover(macd_signal_line, long_window)"
   ]
  },
  {
   "cell_type": "code",
   "execution_count": 8,
   "metadata": {},
   "outputs": [
    {
     "data": {
      "text/plain": [
       "<AxesSubplot:xlabel='Date'>"
      ]
     },
     "execution_count": 8,
     "metadata": {},
     "output_type": "execute_result"
    },
    {
     "data": {
      "image/png": "[encoded data removed]",
      "text/plain": [
       "<Figure size 432x288 with 1 Axes>"
      ]
     },
     "metadata": {
      "needs_background": "light"
     },
     "output_type": "display_data"
    }
   ],
   "source": [
    "signals.buy_sell.plot()"
   ]
  },
  {
   "cell_type": "code",
   "execution_count": 9,
   "metadata": {},
   "outputs": [],
   "source": [
    "from mod_portfolio_utils.portfolio import get_stock_portfolio"
   ]
  },
  {
   "cell_type": "code",
   "execution_count": 10,
   "metadata": {},
   "outputs": [],
   "source": [
    "portfolio = get_stock_portfolio(signals=signals)"
   ]
  },
  {
   "cell_type": "code",
   "execution_count": 11,
   "metadata": {},
   "outputs": [
    {
     "data": {
      "text/html": [
       "<div>\n",
       "<style scoped>\n",
       "    .dataframe tbody tr th:only-of-type {\n",
       "        vertical-align: middle;\n",
       "    }\n",
       "\n",
       "    .dataframe tbody tr th {\n",
       "        vertical-align: top;\n",
       "    }\n",
       "\n",
       "    .dataframe thead th {\n",
       "        text-align: right;\n",
       "    }\n",
       "</style>\n",
       "<table border=\"1\" class=\"dataframe\">\n",
       "  <thead>\n",
       "    <tr style=\"text-align: right;\">\n",
       "      <th></th>\n",
       "      <th>holdings_in_stock</th>\n",
       "      <th>cash</th>\n",
       "      <th>total</th>\n",
       "    </tr>\n",
       "    <tr>\n",
       "      <th>Date</th>\n",
       "      <th></th>\n",
       "      <th></th>\n",
       "      <th></th>\n",
       "    </tr>\n",
       "  </thead>\n",
       "  <tbody>\n",
       "    <tr>\n",
       "      <th>2007-12-03</th>\n",
       "      <td>0.0</td>\n",
       "      <td>100000.0</td>\n",
       "      <td>100000.0</td>\n",
       "    </tr>\n",
       "    <tr>\n",
       "      <th>2007-12-04</th>\n",
       "      <td>0.0</td>\n",
       "      <td>100000.0</td>\n",
       "      <td>100000.0</td>\n",
       "    </tr>\n",
       "    <tr>\n",
       "      <th>2007-12-05</th>\n",
       "      <td>0.0</td>\n",
       "      <td>100000.0</td>\n",
       "      <td>100000.0</td>\n",
       "    </tr>\n",
       "    <tr>\n",
       "      <th>2007-12-06</th>\n",
       "      <td>0.0</td>\n",
       "      <td>100000.0</td>\n",
       "      <td>100000.0</td>\n",
       "    </tr>\n",
       "    <tr>\n",
       "      <th>2007-12-07</th>\n",
       "      <td>0.0</td>\n",
       "      <td>100000.0</td>\n",
       "      <td>100000.0</td>\n",
       "    </tr>\n",
       "  </tbody>\n",
       "</table>\n",
       "</div>"
      ],
      "text/plain": [
       "            holdings_in_stock      cash     total\n",
       "Date                                             \n",
       "2007-12-03                0.0  100000.0  100000.0\n",
       "2007-12-04                0.0  100000.0  100000.0\n",
       "2007-12-05                0.0  100000.0  100000.0\n",
       "2007-12-06                0.0  100000.0  100000.0\n",
       "2007-12-07                0.0  100000.0  100000.0"
      ]
     },
     "execution_count": 11,
     "metadata": {},
     "output_type": "execute_result"
    }
   ],
   "source": [
    "portfolio.head()"
   ]
  },
  {
   "cell_type": "code",
   "execution_count": 12,
   "metadata": {},
   "outputs": [
    {
     "data": {
      "text/plain": [
       "<AxesSubplot:xlabel='Date'>"
      ]
     },
     "execution_count": 12,
     "metadata": {},
     "output_type": "execute_result"
    },
    {
     "data": {
      "image/png": "[encoded data removed]",
      "text/plain": [
       "<Figure size 432x288 with 1 Axes>"
      ]
     },
     "metadata": {
      "needs_background": "light"
     },
     "output_type": "display_data"
    }
   ],
   "source": [
    "portfolio.holdings_in_stock.plot()"
   ]
  },
  {
   "cell_type": "code",
   "execution_count": 13,
   "metadata": {},
   "outputs": [
    {
     "data": {
      "text/plain": [
       "<AxesSubplot:xlabel='Date'>"
      ]
     },
     "execution_count": 13,
     "metadata": {},
     "output_type": "execute_result"
    },
    {
     "data": {
      "image/png": "[encoded data removed]",
      "text/plain": [
       "<Figure size 432x288 with 1 Axes>"
      ]
     },
     "metadata": {
      "needs_background": "light"
     },
     "output_type": "display_data"
    }
   ],
   "source": [
    "portfolio.cash.plot()"
   ]
  },
  {
   "cell_type": "code",
   "execution_count": 14,
   "metadata": {},
   "outputs": [
    {
     "data": {
      "text/plain": [
       "<AxesSubplot:xlabel='Date'>"
      ]
     },
     "execution_count": 14,
     "metadata": {},
     "output_type": "execute_result"
    },
    {
     "data": {
      "image/png": "[encoded data removed]",
      "text/plain": [
       "<Figure size 432x288 with 1 Axes>"
      ]
     },
     "metadata": {
      "needs_background": "light"
     },
     "output_type": "display_data"
    }
   ],
   "source": [
    "portfolio.total.plot()"
   ]
  },
  {
   "cell_type": "markdown",
   "metadata": {},
   "source": [
    "### MA strategy and portfolio"
   ]
  },
  {
   "cell_type": "code",
   "execution_count": 15,
   "metadata": {},
   "outputs": [],
   "source": [
    "from mod_backtest_utils.backtest import Strategy, Portfolio"
   ]
  },
  {
   "cell_type": "markdown",
   "metadata": {},
   "source": [
    "### Strategy"
   ]
  },
  {
   "cell_type": "code",
   "execution_count": 16,
   "metadata": {},
   "outputs": [],
   "source": [
    "# ma_cross.py\n",
    "class MovingAverageCrossStrategy(Strategy):\n",
    "    \"\"\"\n",
    "    Requires:\n",
    "    symbol: A stock symbol on which to form a strategy\n",
    "    bars: A DataFrame of bars for the above symbol\n",
    "    short_window: Looback period for short moving average\n",
    "    long_window: Lookback period for long movign average\n",
    "    signal_window: Lookback period for signal line\n",
    "    \"\"\"\n",
    "    \n",
    "    def __init__(self, symbol, bars, short_window= 80, long_window= 100, signal_window = 20):\n",
    "        self.symbol = symbol\n",
    "        self.bars = bars\n",
    "        self.short_window = short_window\n",
    "        self.long_window = long_window\n",
    "        self.signal_window = signal_window\n",
    "        \n",
    "    def generate_signals(self):\n",
    "        \"\"\"\n",
    "        Returns the DataFrame of symbols containing the signals to go long, short or hold (1, -1, 0)\n",
    "        \"\"\"\n",
    "        signals = pd.DataFrame(index=self.bars.index)\n",
    "        signals['buy_sell'] = 0.0\n",
    "        signals['price'] = self.bars['price']\n",
    "        \n",
    "        # Create the set of short and long simple moving average over the respective periods\n",
    "        signals['SMA'] = signals['price'].rolling(self.short_window, min_periods=1).mean()\n",
    "        signals['LMA'] = signals['price'].rolling(self.long_window, min_periods=1).mean()\n",
    "        \n",
    "        # Create a signal (invested or not invested) when the short moving average cross the \n",
    "        # long moving average, but only for the period greater than the long moving average window\n",
    "        signals['buy_sell'][self.long_window:] = np.where(signals['SMA'][self.long_window:]\n",
    "                                                        > signals['LMA'][self.long_window:], 1.0, 0.0)\n",
    "        \n",
    "        # Take the difference of the signals in order to generate actual trading orders\n",
    "        signals['buy_sell'] = signals['buy_sell'].diff()\n",
    "        \n",
    "        return signals[['price', 'buy_sell']]\n",
    "        "
   ]
  },
  {
   "cell_type": "code",
   "execution_count": null,
   "metadata": {},
   "outputs": [],
   "source": []
  },
  {
   "cell_type": "code",
   "execution_count": 17,
   "metadata": {},
   "outputs": [],
   "source": [
    "# ma_cross.py \n",
    "class MovingAverageCrossStrategy(Strategy):\n",
    "    \n",
    "    \"\"\" \n",
    "    Requires: \n",
    "    symbol: A stock symbol on which to form a strategy \n",
    "    bars: A DataFrame of bars for the above symbol \n",
    "    short_window: Looback period for short moving average \n",
    "    long_window: Lookback period for long movign average \n",
    "    signal_window: Lookback period for signal line \n",
    "    \"\"\"\n",
    "    \n",
    "    def __init__(self, symbol, bars, short_window= 80, long_window= 100, signal_window = 20): \n",
    "        self.symbol = symbol \n",
    "        self.bars = bars \n",
    "        self.short_window = short_window \n",
    "        self.long_window = long_window\n",
    "        self.signal_window = signal_window\n",
    "        \n",
    "        \n",
    "    def generate_signals(self): \n",
    "        \"\"\" \n",
    "        Returns the DataFrame of symbols containing the signals to go long, short or hold (1, -1, 0)\n",
    "        \"\"\" \n",
    "        signals = pd.DataFrame(index=self.bars.index) \n",
    "        signals['buy_sell'] = 0.0 \n",
    "        signals['price'] = self.bars['price'] \n",
    "\n",
    "        # Create the set of short and long simple moving average over the respective periods \n",
    "        signals['SMA'] = signals['price'].rolling(self.short_window, min_periods=1).mean() \n",
    "        signals['LMA'] = signals['price'].rolling(self.long_window, min_periods=1).mean() \n",
    "\n",
    "        # Create a signal (invested or not invested) when the short moving average cross the \n",
    "        # long moving average, but only for the period greater than the long moving average window \n",
    "        signals['buy_sell'][self.long_window:] = np.where(signals['SMA'][self.long_window:] \n",
    "        > signals['LMA'][self.long_window:], 1.0, 0.0) \n",
    "\n",
    "        # Take the difference of the signals in order to generate actual trading orders \n",
    "        signals['buy_sell'] = signals['buy_sell'].diff() \n",
    "\n",
    "        return signals[['price', 'buy_sell']]"
   ]
  },
  {
   "cell_type": "code",
   "execution_count": null,
   "metadata": {},
   "outputs": [],
   "source": []
  },
  {
   "cell_type": "code",
   "execution_count": 18,
   "metadata": {},
   "outputs": [
    {
     "name": "stdout",
     "output_type": "stream",
     "text": [
      "Help on class MovingAverageCrossStrategy in module __main__:\n",
      "\n",
      "class MovingAverageCrossStrategy(mod_backtest_utils.backtest.Strategy)\n",
      " |  MovingAverageCrossStrategy(symbol, bars, short_window=80, long_window=100, signal_window=20)\n",
      " |  \n",
      " |  Requires: \n",
      " |  symbol: A stock symbol on which to form a strategy \n",
      " |  bars: A DataFrame of bars for the above symbol \n",
      " |  short_window: Looback period for short moving average \n",
      " |  long_window: Lookback period for long movign average \n",
      " |  signal_window: Lookback period for signal line\n",
      " |  \n",
      " |  Method resolution order:\n",
      " |      MovingAverageCrossStrategy\n",
      " |      mod_backtest_utils.backtest.Strategy\n",
      " |      builtins.object\n",
      " |  \n",
      " |  Methods defined here:\n",
      " |  \n",
      " |  __init__(self, symbol, bars, short_window=80, long_window=100, signal_window=20)\n",
      " |      Initialize self.  See help(type(self)) for accurate signature.\n",
      " |  \n",
      " |  generate_signals(self)\n",
      " |      Returns the DataFrame of symbols containing the signals to go long, short or hold (1, -1, 0)\n",
      " |  \n",
      " |  ----------------------------------------------------------------------\n",
      " |  Data descriptors inherited from mod_backtest_utils.backtest.Strategy:\n",
      " |  \n",
      " |  __dict__\n",
      " |      dictionary for instance variables (if defined)\n",
      " |  \n",
      " |  __weakref__\n",
      " |      list of weak references to the object (if defined)\n",
      " |  \n",
      " |  ----------------------------------------------------------------------\n",
      " |  Data and other attributes inherited from mod_backtest_utils.backtest.Strategy:\n",
      " |  \n",
      " |  __metaclass__ = <class 'abc.ABCMeta'>\n",
      " |      Metaclass for defining Abstract Base Classes (ABCs).\n",
      " |      \n",
      " |      Use this metaclass to create an ABC.  An ABC can be subclassed\n",
      " |      directly, and then acts as a mix-in class.  You can also register\n",
      " |      unrelated concrete classes (even built-in classes) and unrelated\n",
      " |      ABCs as 'virtual subclasses' -- these and their descendants will\n",
      " |      be considered subclasses of the registering ABC by the built-in\n",
      " |      issubclass() function, but the registering ABC won't show up in\n",
      " |      their MRO (Method Resolution Order) nor will method\n",
      " |      implementations defined by the registering ABC be callable (not\n",
      " |      even via super()).\n",
      "\n"
     ]
    }
   ],
   "source": [
    "help(MovingAverageCrossStrategy)"
   ]
  },
  {
   "cell_type": "code",
   "execution_count": 19,
   "metadata": {},
   "outputs": [
    {
     "data": {
      "text/html": [
       "<div>\n",
       "<style scoped>\n",
       "    .dataframe tbody tr th:only-of-type {\n",
       "        vertical-align: middle;\n",
       "    }\n",
       "\n",
       "    .dataframe tbody tr th {\n",
       "        vertical-align: top;\n",
       "    }\n",
       "\n",
       "    .dataframe thead th {\n",
       "        text-align: right;\n",
       "    }\n",
       "</style>\n",
       "<table border=\"1\" class=\"dataframe\">\n",
       "  <thead>\n",
       "    <tr style=\"text-align: right;\">\n",
       "      <th></th>\n",
       "      <th>Open</th>\n",
       "      <th>High</th>\n",
       "      <th>Low</th>\n",
       "      <th>Close</th>\n",
       "      <th>Volume</th>\n",
       "      <th>Ex-Dividend</th>\n",
       "      <th>Split Ratio</th>\n",
       "      <th>Adj. Open</th>\n",
       "      <th>Adj. High</th>\n",
       "      <th>Adj. Low</th>\n",
       "      <th>Adj. Close</th>\n",
       "      <th>Adj. Volume</th>\n",
       "    </tr>\n",
       "    <tr>\n",
       "      <th>Date</th>\n",
       "      <th></th>\n",
       "      <th></th>\n",
       "      <th></th>\n",
       "      <th></th>\n",
       "      <th></th>\n",
       "      <th></th>\n",
       "      <th></th>\n",
       "      <th></th>\n",
       "      <th></th>\n",
       "      <th></th>\n",
       "      <th></th>\n",
       "      <th></th>\n",
       "    </tr>\n",
       "  </thead>\n",
       "  <tbody>\n",
       "    <tr>\n",
       "      <th>2007-12-03</th>\n",
       "      <td>181.86</td>\n",
       "      <td>184.14</td>\n",
       "      <td>177.70</td>\n",
       "      <td>178.8600</td>\n",
       "      <td>34338200.0</td>\n",
       "      <td>0.0</td>\n",
       "      <td>1.0</td>\n",
       "      <td>23.371545</td>\n",
       "      <td>23.664556</td>\n",
       "      <td>22.836927</td>\n",
       "      <td>22.986003</td>\n",
       "      <td>240367400.0</td>\n",
       "    </tr>\n",
       "    <tr>\n",
       "      <th>2007-12-04</th>\n",
       "      <td>177.15</td>\n",
       "      <td>180.90</td>\n",
       "      <td>176.99</td>\n",
       "      <td>179.8100</td>\n",
       "      <td>27635700.0</td>\n",
       "      <td>0.0</td>\n",
       "      <td>1.0</td>\n",
       "      <td>22.766244</td>\n",
       "      <td>23.248171</td>\n",
       "      <td>22.745682</td>\n",
       "      <td>23.108091</td>\n",
       "      <td>193449900.0</td>\n",
       "    </tr>\n",
       "    <tr>\n",
       "      <th>2007-12-05</th>\n",
       "      <td>182.89</td>\n",
       "      <td>186.00</td>\n",
       "      <td>182.41</td>\n",
       "      <td>185.5000</td>\n",
       "      <td>31871500.0</td>\n",
       "      <td>0.0</td>\n",
       "      <td>1.0</td>\n",
       "      <td>23.503914</td>\n",
       "      <td>23.903592</td>\n",
       "      <td>23.442227</td>\n",
       "      <td>23.839335</td>\n",
       "      <td>223100500.0</td>\n",
       "    </tr>\n",
       "    <tr>\n",
       "      <th>2007-12-06</th>\n",
       "      <td>186.19</td>\n",
       "      <td>190.10</td>\n",
       "      <td>186.12</td>\n",
       "      <td>189.9528</td>\n",
       "      <td>32136100.0</td>\n",
       "      <td>0.0</td>\n",
       "      <td>1.0</td>\n",
       "      <td>23.928010</td>\n",
       "      <td>24.430500</td>\n",
       "      <td>23.919014</td>\n",
       "      <td>24.411582</td>\n",
       "      <td>224952700.0</td>\n",
       "    </tr>\n",
       "    <tr>\n",
       "      <th>2007-12-07</th>\n",
       "      <td>190.54</td>\n",
       "      <td>194.99</td>\n",
       "      <td>188.04</td>\n",
       "      <td>194.3000</td>\n",
       "      <td>38073800.0</td>\n",
       "      <td>0.0</td>\n",
       "      <td>1.0</td>\n",
       "      <td>24.487046</td>\n",
       "      <td>25.058933</td>\n",
       "      <td>24.165761</td>\n",
       "      <td>24.970258</td>\n",
       "      <td>266516600.0</td>\n",
       "    </tr>\n",
       "  </tbody>\n",
       "</table>\n",
       "</div>"
      ],
      "text/plain": [
       "              Open    High     Low     Close      Volume  Ex-Dividend  \\\n",
       "Date                                                                    \n",
       "2007-12-03  181.86  184.14  177.70  178.8600  34338200.0          0.0   \n",
       "2007-12-04  177.15  180.90  176.99  179.8100  27635700.0          0.0   \n",
       "2007-12-05  182.89  186.00  182.41  185.5000  31871500.0          0.0   \n",
       "2007-12-06  186.19  190.10  186.12  189.9528  32136100.0          0.0   \n",
       "2007-12-07  190.54  194.99  188.04  194.3000  38073800.0          0.0   \n",
       "\n",
       "            Split Ratio  Adj. Open  Adj. High   Adj. Low  Adj. Close  \\\n",
       "Date                                                                   \n",
       "2007-12-03          1.0  23.371545  23.664556  22.836927   22.986003   \n",
       "2007-12-04          1.0  22.766244  23.248171  22.745682   23.108091   \n",
       "2007-12-05          1.0  23.503914  23.903592  23.442227   23.839335   \n",
       "2007-12-06          1.0  23.928010  24.430500  23.919014   24.411582   \n",
       "2007-12-07          1.0  24.487046  25.058933  24.165761   24.970258   \n",
       "\n",
       "            Adj. Volume  \n",
       "Date                     \n",
       "2007-12-03  240367400.0  \n",
       "2007-12-04  193449900.0  \n",
       "2007-12-05  223100500.0  \n",
       "2007-12-06  224952700.0  \n",
       "2007-12-07  266516600.0  "
      ]
     },
     "execution_count": 19,
     "metadata": {},
     "output_type": "execute_result"
    }
   ],
   "source": [
    "stock_data.head()"
   ]
  },
  {
   "cell_type": "code",
   "execution_count": 20,
   "metadata": {},
   "outputs": [],
   "source": [
    "symbol = 'AAPL'\n",
    "macd_signal_strategy = MovingAverageCrossStrategy(symbol, data)"
   ]
  },
  {
   "cell_type": "code",
   "execution_count": 21,
   "metadata": {},
   "outputs": [],
   "source": [
    "# print(macd_signal_strategy)"
   ]
  },
  {
   "cell_type": "code",
   "execution_count": 22,
   "metadata": {},
   "outputs": [],
   "source": [
    "# help(macd_signal_strategy)"
   ]
  },
  {
   "cell_type": "code",
   "execution_count": null,
   "metadata": {},
   "outputs": [],
   "source": []
  },
  {
   "cell_type": "code",
   "execution_count": 23,
   "metadata": {},
   "outputs": [],
   "source": [
    "signals = macd_signal_strategy.generate_signals()"
   ]
  },
  {
   "cell_type": "code",
   "execution_count": 24,
   "metadata": {},
   "outputs": [
    {
     "data": {
      "text/plain": [
       "<AxesSubplot:xlabel='Date'>"
      ]
     },
     "execution_count": 24,
     "metadata": {},
     "output_type": "execute_result"
    },
    {
     "data": {
      "image/png": "[encoded data removed]",
      "text/plain": [
       "<Figure size 432x288 with 1 Axes>"
      ]
     },
     "metadata": {
      "needs_background": "light"
     },
     "output_type": "display_data"
    }
   ],
   "source": [
    "signals.buy_sell.plot()"
   ]
  },
  {
   "cell_type": "code",
   "execution_count": null,
   "metadata": {},
   "outputs": [],
   "source": []
  },
  {
   "cell_type": "markdown",
   "metadata": {},
   "source": [
    "### Portfolio"
   ]
  },
  {
   "cell_type": "code",
   "execution_count": 25,
   "metadata": {},
   "outputs": [],
   "source": [
    "# ma_cross.py\n",
    "\n",
    "class MarketOnPricePortfolio(Portfolio):\n",
    "    \"\"\"\n",
    "    Encapsulates the notion of a portfolio of positions based on a set of signals as provided by a Strategy\n",
    "    \n",
    "    Requires:\n",
    "    symbol: A stock symbol which forms the basis of the portfolio.\n",
    "    signals: A pandas DataFrame of signals (1, 0, -1) and price for each symbol.\n",
    "    Initial_capital: the amount in cash at the start of the portfolio.\n",
    "    \"\"\"\n",
    "    \n",
    "    def __init__(self, symbol, signals, initial_capital=100000.0):\n",
    "        self.symbol = symbol\n",
    "        self.signals = signals\n",
    "        self.initial_capital = float(initial_capital)\n",
    "        self.positions = self.generate_positions()\n",
    "        \n",
    "    def generate_positions(self):\n",
    "        positions = pd.DataFrame(index= self.signals.index).fillna(0.0)\n",
    "        # Buy a 100 shares and accumulate position\n",
    "        positions[self.symbol] = 100 * self.signals['buy_sell'].cumsum() \n",
    "        return positions\n",
    "    \n",
    "    def backtest_portfolio(self):\n",
    "        portfolio = pd.DataFrame(index=self.signals.index)\n",
    "        # Initialize the portfolio with value owned \n",
    "        portfolio[self.symbol] = self.positions[self.symbol].multiply(signals['price'], axis=0)\n",
    "        pos_diff = 100 * self.signals[['buy_sell']]\n",
    "        # add holding to portfolio\n",
    "        portfolio['holdings'] = (self.positions.multiply(signals['price'], axis=0)).sum(axis=1)\n",
    "        # Add `cash` to portfolio\n",
    "        portfolio['cash'] = self.initial_capital - (pos_diff.multiply(self.signals['price'], axis=0)).sum(axis=1).cumsum()   \n",
    "        portfolio['total'] = portfolio['cash'] + portfolio['holdings']\n",
    "        # return the portfolio\n",
    "        return portfolio[['holdings', 'cash', 'total']]\n"
   ]
  },
  {
   "cell_type": "code",
   "execution_count": 26,
   "metadata": {},
   "outputs": [],
   "source": [
    "portfolio_ma = MarketOnPricePortfolio(symbol=symbol, signals=signals)"
   ]
  },
  {
   "cell_type": "code",
   "execution_count": 27,
   "metadata": {},
   "outputs": [],
   "source": [
    "macd_portfolio = portfolio_ma.backtest_portfolio()"
   ]
  },
  {
   "cell_type": "code",
   "execution_count": 28,
   "metadata": {},
   "outputs": [
    {
     "data": {
      "text/plain": [
       "<AxesSubplot:xlabel='Date'>"
      ]
     },
     "execution_count": 28,
     "metadata": {},
     "output_type": "execute_result"
    },
    {
     "data": {
      "image/png": "[encoded data removed]",
      "text/plain": [
       "<Figure size 432x288 with 1 Axes>"
      ]
     },
     "metadata": {
      "needs_background": "light"
     },
     "output_type": "display_data"
    }
   ],
   "source": [
    "macd_portfolio.holdings.plot()"
   ]
  },
  {
   "cell_type": "code",
   "execution_count": 29,
   "metadata": {},
   "outputs": [
    {
     "data": {
      "text/plain": [
       "<AxesSubplot:xlabel='Date'>"
      ]
     },
     "execution_count": 29,
     "metadata": {},
     "output_type": "execute_result"
    },
    {
     "data": {
      "image/png": "[encoded data removed]",
      "text/plain": [
       "<Figure size 432x288 with 1 Axes>"
      ]
     },
     "metadata": {
      "needs_background": "light"
     },
     "output_type": "display_data"
    }
   ],
   "source": [
    "macd_portfolio.holdings.plot()"
   ]
  },
  {
   "cell_type": "markdown",
   "metadata": {},
   "source": [
    "### compare"
   ]
  },
  {
   "cell_type": "code",
   "execution_count": null,
   "metadata": {},
   "outputs": [],
   "source": []
  },
  {
   "cell_type": "code",
   "execution_count": 30,
   "metadata": {},
   "outputs": [
    {
     "data": {
      "text/plain": [
       "<AxesSubplot:xlabel='Date'>"
      ]
     },
     "execution_count": 30,
     "metadata": {},
     "output_type": "execute_result"
    },
    {
     "data": {
      "image/png": "[encoded data removed]",
      "text/plain": [
       "<Figure size 432x288 with 1 Axes>"
      ]
     },
     "metadata": {
      "needs_background": "light"
     },
     "output_type": "display_data"
    }
   ],
   "source": [
    "(portfolio.holdings_in_stock - macd_portfolio.holdings).plot()"
   ]
  },
  {
   "cell_type": "code",
   "execution_count": 31,
   "metadata": {},
   "outputs": [
    {
     "data": {
      "text/plain": [
       "<AxesSubplot:xlabel='Date'>"
      ]
     },
     "execution_count": 31,
     "metadata": {},
     "output_type": "execute_result"
    },
    {
     "data": {
      "image/png": "[encoded data removed]",
      "text/plain": [
       "<Figure size 432x288 with 1 Axes>"
      ]
     },
     "metadata": {
      "needs_background": "light"
     },
     "output_type": "display_data"
    }
   ],
   "source": [
    "(portfolio.cash - macd_portfolio.cash).plot()"
   ]
  },
  {
   "cell_type": "code",
   "execution_count": 32,
   "metadata": {},
   "outputs": [
    {
     "data": {
      "text/plain": [
       "<AxesSubplot:xlabel='Date'>"
      ]
     },
     "execution_count": 32,
     "metadata": {},
     "output_type": "execute_result"
    },
    {
     "data": {
      "image/png": "[encoded data removed]",
      "text/plain": [
       "<Figure size 432x288 with 1 Axes>"
      ]
     },
     "metadata": {
      "needs_background": "light"
     },
     "output_type": "display_data"
    }
   ],
   "source": [
    "(portfolio.total - macd_portfolio.total).plot()"
   ]
  },
  {
   "cell_type": "code",
   "execution_count": null,
   "metadata": {},
   "outputs": [],
   "source": []
  },
  {
   "cell_type": "code",
   "execution_count": null,
   "metadata": {},
   "outputs": [],
   "source": []
  },
  {
   "cell_type": "code",
   "execution_count": null,
   "metadata": {},
   "outputs": [],
   "source": []
  }
 ],
 "metadata": {
  "kernelspec": {
   "display_name": "Python 3 (ipykernel)",
   "language": "python",
   "name": "python3"
  },
  "language_info": {
   "codemirror_mode": {
    "name": "ipython",
    "version": 3
   },
   "file_extension": ".py",
   "mimetype": "text/x-python",
   "name": "python",
   "nbconvert_exporter": "python",
   "pygments_lexer": "ipython3",
   "version": "3.9.7"
  }
 },
 "nbformat": 4,
 "nbformat_minor": 2
}
