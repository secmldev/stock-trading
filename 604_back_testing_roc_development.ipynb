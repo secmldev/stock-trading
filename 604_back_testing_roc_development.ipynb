{
 "cells": [
  {
   "cell_type": "code",
   "execution_count": 1,
   "id": "5c585fce",
   "metadata": {},
   "outputs": [],
   "source": [
    "import datetime\n",
    "import matplotlib.pyplot as plt\n",
    "import numpy as np\n",
    "import pandas as pd\n",
    "from datetime import date"
   ]
  },
  {
   "cell_type": "code",
   "execution_count": 2,
   "id": "2642f36f",
   "metadata": {},
   "outputs": [],
   "source": [
    "from mod_my_utils.read_write_data import *"
   ]
  },
  {
   "cell_type": "code",
   "execution_count": 3,
   "id": "e2fc6bdb",
   "metadata": {},
   "outputs": [],
   "source": [
    "folder_path = 'data/'\n",
    "stock_name = 'AAPL'\n",
    "index_col = 'Date'"
   ]
  },
  {
   "cell_type": "code",
   "execution_count": 4,
   "id": "a320b906",
   "metadata": {},
   "outputs": [
    {
     "name": "stdout",
     "output_type": "stream",
     "text": [
      "stock name:  AAPL\n"
     ]
    }
   ],
   "source": [
    "stock_data = get_price_csv(folder_name=folder_path,symbol=stock_name, index_col=index_col)"
   ]
  },
  {
   "cell_type": "code",
   "execution_count": 5,
   "id": "17f496ef",
   "metadata": {},
   "outputs": [
    {
     "data": {
      "text/html": [
       "<div>\n",
       "<style scoped>\n",
       "    .dataframe tbody tr th:only-of-type {\n",
       "        vertical-align: middle;\n",
       "    }\n",
       "\n",
       "    .dataframe tbody tr th {\n",
       "        vertical-align: top;\n",
       "    }\n",
       "\n",
       "    .dataframe thead th {\n",
       "        text-align: right;\n",
       "    }\n",
       "</style>\n",
       "<table border=\"1\" class=\"dataframe\">\n",
       "  <thead>\n",
       "    <tr style=\"text-align: right;\">\n",
       "      <th></th>\n",
       "      <th>price</th>\n",
       "    </tr>\n",
       "    <tr>\n",
       "      <th>Date</th>\n",
       "      <th></th>\n",
       "    </tr>\n",
       "  </thead>\n",
       "  <tbody>\n",
       "    <tr>\n",
       "      <th>2007-12-03</th>\n",
       "      <td>22.986003</td>\n",
       "    </tr>\n",
       "    <tr>\n",
       "      <th>2007-12-04</th>\n",
       "      <td>23.108091</td>\n",
       "    </tr>\n",
       "    <tr>\n",
       "      <th>2007-12-05</th>\n",
       "      <td>23.839335</td>\n",
       "    </tr>\n",
       "    <tr>\n",
       "      <th>2007-12-06</th>\n",
       "      <td>24.411582</td>\n",
       "    </tr>\n",
       "    <tr>\n",
       "      <th>2007-12-07</th>\n",
       "      <td>24.970258</td>\n",
       "    </tr>\n",
       "  </tbody>\n",
       "</table>\n",
       "</div>"
      ],
      "text/plain": [
       "                price\n",
       "Date                 \n",
       "2007-12-03  22.986003\n",
       "2007-12-04  23.108091\n",
       "2007-12-05  23.839335\n",
       "2007-12-06  24.411582\n",
       "2007-12-07  24.970258"
      ]
     },
     "execution_count": 5,
     "metadata": {},
     "output_type": "execute_result"
    }
   ],
   "source": [
    "data = stock_data[[\"Adj. Close\"]].copy()\n",
    "data.columns = [\"price\"]\n",
    "data.head()"
   ]
  },
  {
   "cell_type": "markdown",
   "id": "cbd5c3c7",
   "metadata": {},
   "source": [
    "### ROC Strategy and portfolio"
   ]
  },
  {
   "cell_type": "code",
   "execution_count": 6,
   "id": "0f5b4ac6",
   "metadata": {},
   "outputs": [],
   "source": [
    "from mod_backtest_utils.backtest import Strategy, Portfolio"
   ]
  },
  {
   "cell_type": "code",
   "execution_count": null,
   "id": "8e1232ec",
   "metadata": {},
   "outputs": [],
   "source": []
  },
  {
   "cell_type": "code",
   "execution_count": 7,
   "id": "35553cad",
   "metadata": {},
   "outputs": [],
   "source": [
    "class ROCStrategy(Strategy):\n",
    "    \"\"\"\n",
    "    Requires:\n",
    "    symbol: A stock symbol on which to form a strategy\n",
    "    bars: A DataFrame of bars for the above symbol\n",
    "    period: Lookback period for roc calculation\n",
    "    \"\"\"\n",
    "    \n",
    "    def __init__(self, symbol, bars, period, buy_threshold, sell_threshold):\n",
    "        self.symbol = symbol\n",
    "        self.bars = bars\n",
    "        self.period = period\n",
    "        self.buy_threshold = buy_threshold\n",
    "        self.sell_threshold = sell_threshold\n",
    " \n",
    "    def generate_signals(self):\n",
    "        \"\"\"\n",
    "        Returns the DataFrame of signal containing the signals to go long, short or hold (1, -1, 0)\n",
    "        \"\"\"\n",
    "        # initiate signal data frame with date as index\n",
    "        signals = pd.DataFrame(index=self.bars.index)\n",
    "        signals['price'] = self.bars['price']\n",
    "        \n",
    "        # calculate roc values for the given period\n",
    "        signals['roc' + str(self.period)] = signals['price'].diff(periods=self.period) / signals['price'].shift(periods=self.period)\n",
    "        \n",
    "        # buy sell signal generations\n",
    "        signals['buy']= 0.0\n",
    "        signals['sell']= 0.0\n",
    "        signals['buy'] = np.where(signals['roc' + str(self.period)] < self.buy_threshold, -1.0, 0.0)\n",
    "        signals['sell'] = np.where(signals['roc' + str(self.period)] > self.sell_threshold, 1.0, 0.0)\n",
    "        signals['buy'] = signals['buy'].diff()\n",
    "        signals['sell'] = signals['sell'].diff()\n",
    "        signals.loc[signals['buy']==-1.0,['buy']] = 0.0 \n",
    "        signals.loc[signals['sell']== 1.0,['sell']] = 0.0 \n",
    "        signals['buy_sell'] = signals['buy'] + signals['sell']\n",
    "        return signals[['price', 'buy_sell']]"
   ]
  },
  {
   "cell_type": "code",
   "execution_count": 10,
   "id": "a8ebc2d9",
   "metadata": {},
   "outputs": [],
   "source": [
    "symbol = 'AAPL'\n",
    "buy_threshold = -0.2\n",
    "sell_threshold = 0.2\n",
    "period = 12\n",
    "roc = ROCStrategy(symbol= symbol, bars= data, period= period, buy_threshold=buy_threshold, sell_threshold=sell_threshold)"
   ]
  },
  {
   "cell_type": "code",
   "execution_count": 11,
   "id": "db729110",
   "metadata": {},
   "outputs": [
    {
     "data": {
      "text/html": [
       "<div>\n",
       "<style scoped>\n",
       "    .dataframe tbody tr th:only-of-type {\n",
       "        vertical-align: middle;\n",
       "    }\n",
       "\n",
       "    .dataframe tbody tr th {\n",
       "        vertical-align: top;\n",
       "    }\n",
       "\n",
       "    .dataframe thead th {\n",
       "        text-align: right;\n",
       "    }\n",
       "</style>\n",
       "<table border=\"1\" class=\"dataframe\">\n",
       "  <thead>\n",
       "    <tr style=\"text-align: right;\">\n",
       "      <th></th>\n",
       "      <th>price</th>\n",
       "      <th>buy_sell</th>\n",
       "    </tr>\n",
       "    <tr>\n",
       "      <th>Date</th>\n",
       "      <th></th>\n",
       "      <th></th>\n",
       "    </tr>\n",
       "  </thead>\n",
       "  <tbody>\n",
       "    <tr>\n",
       "      <th>2007-12-03</th>\n",
       "      <td>22.986003</td>\n",
       "      <td>NaN</td>\n",
       "    </tr>\n",
       "    <tr>\n",
       "      <th>2007-12-04</th>\n",
       "      <td>23.108091</td>\n",
       "      <td>0.0</td>\n",
       "    </tr>\n",
       "    <tr>\n",
       "      <th>2007-12-05</th>\n",
       "      <td>23.839335</td>\n",
       "      <td>0.0</td>\n",
       "    </tr>\n",
       "    <tr>\n",
       "      <th>2007-12-06</th>\n",
       "      <td>24.411582</td>\n",
       "      <td>0.0</td>\n",
       "    </tr>\n",
       "    <tr>\n",
       "      <th>2007-12-07</th>\n",
       "      <td>24.970258</td>\n",
       "      <td>0.0</td>\n",
       "    </tr>\n",
       "    <tr>\n",
       "      <th>...</th>\n",
       "      <td>...</td>\n",
       "      <td>...</td>\n",
       "    </tr>\n",
       "    <tr>\n",
       "      <th>2017-11-27</th>\n",
       "      <td>174.090000</td>\n",
       "      <td>0.0</td>\n",
       "    </tr>\n",
       "    <tr>\n",
       "      <th>2017-11-28</th>\n",
       "      <td>173.070000</td>\n",
       "      <td>0.0</td>\n",
       "    </tr>\n",
       "    <tr>\n",
       "      <th>2017-11-29</th>\n",
       "      <td>169.480000</td>\n",
       "      <td>0.0</td>\n",
       "    </tr>\n",
       "    <tr>\n",
       "      <th>2017-11-30</th>\n",
       "      <td>171.850000</td>\n",
       "      <td>0.0</td>\n",
       "    </tr>\n",
       "    <tr>\n",
       "      <th>2017-12-01</th>\n",
       "      <td>171.050000</td>\n",
       "      <td>0.0</td>\n",
       "    </tr>\n",
       "  </tbody>\n",
       "</table>\n",
       "<p>2517 rows × 2 columns</p>\n",
       "</div>"
      ],
      "text/plain": [
       "                 price  buy_sell\n",
       "Date                            \n",
       "2007-12-03   22.986003       NaN\n",
       "2007-12-04   23.108091       0.0\n",
       "2007-12-05   23.839335       0.0\n",
       "2007-12-06   24.411582       0.0\n",
       "2007-12-07   24.970258       0.0\n",
       "...                ...       ...\n",
       "2017-11-27  174.090000       0.0\n",
       "2017-11-28  173.070000       0.0\n",
       "2017-11-29  169.480000       0.0\n",
       "2017-11-30  171.850000       0.0\n",
       "2017-12-01  171.050000       0.0\n",
       "\n",
       "[2517 rows x 2 columns]"
      ]
     },
     "execution_count": 11,
     "metadata": {},
     "output_type": "execute_result"
    }
   ],
   "source": [
    "roc.generate_signals()"
   ]
  },
  {
   "cell_type": "code",
   "execution_count": null,
   "id": "dac48989",
   "metadata": {},
   "outputs": [],
   "source": []
  }
 ],
 "metadata": {
  "kernelspec": {
   "display_name": "Python 3 (ipykernel)",
   "language": "python",
   "name": "python3"
  },
  "language_info": {
   "codemirror_mode": {
    "name": "ipython",
    "version": 3
   },
   "file_extension": ".py",
   "mimetype": "text/x-python",
   "name": "python",
   "nbconvert_exporter": "python",
   "pygments_lexer": "ipython3",
   "version": "3.9.7"
  }
 },
 "nbformat": 4,
 "nbformat_minor": 5
}
